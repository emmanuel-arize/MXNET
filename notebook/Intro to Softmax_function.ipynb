{
 "cells": [
  {
   "cell_type": "markdown",
   "metadata": {},
   "source": [
    "#  Multinomial Logistic Regression (Softmax Classifier)\n",
    "----"
   ]
  },
  {
   "cell_type": "markdown",
   "metadata": {},
   "source": [
    "We introduced logistic regression for performing binary classificasion in the previous section.\n",
    "\n",
    "Binary classificasion is quite useful and can be used for categorizing sentiment such positive or negative But not every \n",
    "classification problem fits the mold of binary classificasion for instance we might be interested in 3-way sentiment classification (positive, negative, or neutral) which involves more than two categories for which we will refer to these categories as N number of categories. There are several methods for dealing with such problem including\n",
    "\n",
    "$\\textbf{multinomial logistic regression, also called softmax multinomial logistic regression}$\n",
    "\n",
    "$\\textbf{The multinomial logistic classifier uses a generalization of the sigmoid function called the softmax function}$ to handle multi-class classification problems. where $y_{i}=1, 2,---,N$ with N being the number of classes. It takes N-dimensional vector of arbitrary real values and produces another N-dimensional vector with real values.\n",
    "\n",
    "\n",
    "Given an input vector $O$, softmax first exponentiates (ensuring non-negativity)  $e^{O_{i}}$, forcing all values to be strictly positive then normalizes it by $\\sum_{j}exp(O_{j})$ so that all predicted values for an input sum to $\\textbf{1}$. \n",
    "Given as input vector the softmax function is defined as\n"
   ]
  },
  {
   "cell_type": "markdown",
   "metadata": {},
   "source": [
    " $$ \\hat y_{i} =spftmax(O_{i})= \\frac{exp(O_{i})}{\\sum_{j}exp(O_{j})}  $$\n",
    "Where $O=Wx+b$\n",
    "\n",
    "\n",
    "\n",
    "# NOTE THAT\n",
    "$\\textbf{the bias term is now a vector, with one component for each output node}$\n",
    "\n",
    "Generally if we are given a minibatch X of examples with dimensionality $d$ and batch size $n$\n",
    "and and have a target variable with q categories (outputs). Then\n",
    "the minibatch features $X \\in R^{n\\times d}$, weights $W \\in R^{d\\times q}$, and the bias satisfies $b\\in R^{q}$\n",
    "\n",
    "Using a dataset of 3 examples and 4 features $(X \\in R^{3 \\times 4})$ and with 3 possible output categories, we will need 12 scalars to represent the weights, ($ w \\in R^{4 \\times 3}$) and 3 scalars to represent the biases ($b \\in R^{3}$).\n",
    "We compute these three logits, $O_{1}, O_{2},$ and $O_{3}$, for each input:\n",
    "\n",
    "\n",
    "$$O_{1} =w_{11}x_{1} + w_{12}x_{2}+w_{13}x_{3}+w_{14}x_{4} +b_{1}     $$\n",
    "$$O_{2} =w_{21}x_{1} + w_{22}x_{2}+w_{23}x_{3}+w_{24}x_{4} +b_{2}     $$\n",
    "$$O_{3} =w_{31}x_{1} + w_{32}x_{2}+w_{33}x_{3}+w_{34}x_{4} +b_{3}     $$\n",
    "\n",
    "Using softmax function defined above the outputs for the $O_{i}$ will be\n",
    "\n",
    "$OUTPUT(O_{1})=\\frac{\\exp(O_{1})}{\\exp(O_{1} ) + \\exp(O_{2}) +\\exp(O_{3})},   OUTPUT(O_{2})=\\frac{\\exp(O_{2})}{\\exp(O_{1} )+\\exp(O_{2})   +     \\exp(O_{3})},  OUTPUT(O_{3})=\\frac{\\exp(O_{3})}{\\exp(O_{1} )+\\exp(O_{2}) +\\exp(O_{3})}$\n",
    "\n",
    "\n",
    "and with the predicted class being the class with the highest probability\n",
    "  $$predicted \\ class=argmax_{i} \\hat y(O_{i}) $$\n",
    "  \n",
    "  the softmax classifier output values within the range $[0, 1]$. the denominator normalizes the values which causes these class probabilities to sum up to one"
   ]
  },
  {
   "cell_type": "code",
   "execution_count": 1,
   "metadata": {
    "ExecuteTime": {
     "end_time": "2020-07-06T22:28:51.047319Z",
     "start_time": "2020-07-06T22:28:41.992805Z"
    }
   },
   "outputs": [],
   "source": [
    "import d2l\n",
    "import mxnet as mx\n",
    "from mxnet import nd,npx,np, autograd, gluon\n",
    "import matplotlib.pyplot as plt\n",
    "%matplotlib inline"
   ]
  },
  {
   "cell_type": "code",
   "execution_count": 2,
   "metadata": {
    "ExecuteTime": {
     "end_time": "2020-07-06T22:28:51.066305Z",
     "start_time": "2020-07-06T22:28:51.052305Z"
    }
   },
   "outputs": [],
   "source": [
    "mx.random.seed(42)"
   ]
  },
  {
   "cell_type": "code",
   "execution_count": 3,
   "metadata": {
    "ExecuteTime": {
     "end_time": "2020-07-06T22:28:52.802461Z",
     "start_time": "2020-07-06T22:28:52.796463Z"
    }
   },
   "outputs": [],
   "source": [
    "def softmax(x):\n",
    "    numerator=np.exp(x)\n",
    "    denominator=numerator.sum(axis=1,keepdims=True)\n",
    "    return numerator/denominator\n",
    "    "
   ]
  },
  {
   "cell_type": "code",
   "execution_count": 4,
   "metadata": {
    "ExecuteTime": {
     "end_time": "2020-07-06T22:28:52.898796Z",
     "start_time": "2020-07-06T22:28:52.879824Z"
    }
   },
   "outputs": [
    {
     "data": {
      "text/plain": [
       "array([[ 0.045 , -0.0506,  1.2059],\n",
       "       [ 0.4869, -2.0537,  0.5696]])"
      ]
     },
     "execution_count": 4,
     "metadata": {},
     "output_type": "execute_result"
    }
   ],
   "source": [
    "x=np.array([[ 0.0450, -0.0506,  1.2059],\n",
    "        [ 0.4869, -2.0537,  0.5696]])\n",
    "x"
   ]
  },
  {
   "cell_type": "code",
   "execution_count": 5,
   "metadata": {
    "ExecuteTime": {
     "end_time": "2020-07-06T22:28:53.203235Z",
     "start_time": "2020-07-06T22:28:53.177228Z"
    }
   },
   "outputs": [
    {
     "data": {
      "text/plain": [
       "array([[0.19601569, 0.17814443, 0.6258399 ],\n",
       "       [0.46188632, 0.03640546, 0.50170827]])"
      ]
     },
     "execution_count": 5,
     "metadata": {},
     "output_type": "execute_result"
    }
   ],
   "source": [
    "softmax(x)"
   ]
  },
  {
   "cell_type": "code",
   "execution_count": 6,
   "metadata": {
    "ExecuteTime": {
     "end_time": "2020-07-06T22:28:53.294230Z",
     "start_time": "2020-07-06T22:28:53.277228Z"
    }
   },
   "outputs": [
    {
     "data": {
      "text/plain": [
       "array([1., 1.])"
      ]
     },
     "execution_count": 6,
     "metadata": {},
     "output_type": "execute_result"
    }
   ],
   "source": [
    "np.sum(softmax(x),axis=1)"
   ]
  },
  {
   "cell_type": "markdown",
   "metadata": {},
   "source": [
    "# Categorical cross-entropy loss (also referred to as negative loglikelihood)\n",
    "\n",
    "The categorical cross entropy loss is used for multiclass classification task which measures the dissimilarity between the predicted label distribution$\\hat y$ and the true label distribution $y$ and is defined as\n",
    "\n",
    "$$  \\ell(y_{i}, \\hat y_{i})=\\sum^{n}_{i=1}-y_{i}log \\hat y_{i} $$\n",
    "\n",
    "\n"
   ]
  },
  {
   "cell_type": "markdown",
   "metadata": {},
   "source": [
    "# MULTICLASS LOGISTIC REGRESSION (SOFTMAX)  FROM SCRATCH"
   ]
  },
  {
   "cell_type": "code",
   "execution_count": 7,
   "metadata": {
    "ExecuteTime": {
     "end_time": "2020-07-06T22:28:53.957738Z",
     "start_time": "2020-07-06T22:28:53.952744Z"
    }
   },
   "outputs": [],
   "source": [
    "import numpy as np\n",
    "import mxnet as mx\n",
    "from mxnet import nd, autograd, gluon\n",
    "import d2l\n",
    "import matplotlib.pyplot as plt\n",
    "mx.random.seed(1)"
   ]
  },
  {
   "cell_type": "code",
   "execution_count": 8,
   "metadata": {
    "ExecuteTime": {
     "end_time": "2020-07-06T22:28:56.144114Z",
     "start_time": "2020-07-06T22:28:56.139115Z"
    }
   },
   "outputs": [],
   "source": [
    "data_ctx = mx.cpu()\n",
    "model_ctx = mx.cpu()"
   ]
  },
  {
   "cell_type": "markdown",
   "metadata": {},
   "source": [
    "### We are going to load the data and transform both the inputs and labels to float32 array. Since the input data has values between 0-255 we will divide each value by 255 to have values between 0 and 1"
   ]
  },
  {
   "cell_type": "code",
   "execution_count": 9,
   "metadata": {
    "ExecuteTime": {
     "end_time": "2020-07-06T22:29:03.673839Z",
     "start_time": "2020-07-06T22:29:03.030792Z"
    }
   },
   "outputs": [],
   "source": [
    "def transform(data, label):\n",
    "    return data.astype(np.float32)/255, label.astype(np.float32)\n",
    "mnist_train = gluon.data.vision.MNIST(train=True,transform=transform)\n",
    "mnist_test = gluon.data.vision.MNIST(train=False,transform=transform)"
   ]
  },
  {
   "cell_type": "markdown",
   "metadata": {},
   "source": [
    "### a function to visualize examples of the data"
   ]
  },
  {
   "cell_type": "code",
   "execution_count": 10,
   "metadata": {
    "ExecuteTime": {
     "end_time": "2020-07-06T22:29:05.090696Z",
     "start_time": "2020-07-06T22:29:05.007698Z"
    }
   },
   "outputs": [],
   "source": [
    "def get_fashion_mnist_labels(labels):\n",
    "    text_labels = ['zero', 'one', 'two', 'three', 'four','five', 'six', 'seven', 'eight', 'nine']\n",
    "    return [text_labels[int(i)] for i in labels]\n",
    "\n",
    "# Saved in the d2l package for later use\n",
    "def show_images(imgs, num_rows, num_cols, titles=None, scale=1.5):\n",
    "    figsize=(num_cols*scale,num_rows*scale)\n",
    "    _,axes=d2l.plt.subplots(num_rows,num_cols,figsize=figsize)\n",
    "    axes=axes.flatten()\n",
    "    for i, (ax,img) in enumerate(zip(axes,imgs)):\n",
    "        ax.imshow(img.asnumpy())\n",
    "        ax.axes.get_xaxis().set_visible(False)\n",
    "        ax.axes.get_yaxis().set_visible(False)\n",
    "        if titles:\n",
    "            ax.set_title(titles[i])\n",
    "    return axes"
   ]
  },
  {
   "cell_type": "code",
   "execution_count": 11,
   "metadata": {
    "ExecuteTime": {
     "end_time": "2020-07-06T22:29:07.114564Z",
     "start_time": "2020-07-06T22:29:06.514635Z"
    }
   },
   "outputs": [
    {
     "data": {
      "image/png": "[encoded data removed]",
      "text/plain": [
       "<Figure size 972x216 with 18 Axes>"
      ]
     },
     "metadata": {},
     "output_type": "display_data"
    }
   ],
   "source": [
    "X, y = mnist_train[:20]\n",
    "show_images(X.squeeze(axis=-1), 2, 9, titles=get_fashion_mnist_labels(y));"
   ]
  },
  {
   "cell_type": "code",
   "execution_count": 12,
   "metadata": {
    "ExecuteTime": {
     "end_time": "2020-07-06T22:29:07.940209Z",
     "start_time": "2020-07-06T22:29:07.926207Z"
    }
   },
   "outputs": [
    {
     "name": "stdout",
     "output_type": "stream",
     "text": [
      "(28, 28, 1) 5.0\n"
     ]
    }
   ],
   "source": [
    "image, label = mnist_train[0]\n",
    "print(image.shape,label)"
   ]
  },
  {
   "cell_type": "markdown",
   "metadata": {},
   "source": [
    "#  data iterator"
   ]
  },
  {
   "cell_type": "code",
   "execution_count": 13,
   "metadata": {
    "ExecuteTime": {
     "end_time": "2020-07-06T22:29:22.100411Z",
     "start_time": "2020-07-06T22:29:22.094413Z"
    }
   },
   "outputs": [],
   "source": [
    "batch_size = 80\n",
    "train_data = mx.gluon.data.DataLoader(mnist_train, batch_size, shuffle=True)\n",
    "test_data = mx.gluon.data.DataLoader(mnist_test, batch_size, shuffle=False)"
   ]
  },
  {
   "cell_type": "markdown",
   "metadata": {},
   "source": [
    "\n",
    "Each example in the raw data is a $28 \\times 28$ image so a sample of the images will have a shape of ($ num\\_samples \\times 28 \\times 28$). since our model will be defined to accept an inputs of shape ($m \\times n$) we will flatten the shape of our data to ($ num\\_samples \\times 784$) where $784=28\\times 28$. Consequently, our weights will constitute a $784 \\times 10$ matrix\n",
    "and the biases will constitute a $1 \\times 10$ vector Because our dataset has $10$ categories\n",
    "\n",
    "\n",
    "$$X\\in R^{n \\times 784}, W\\in R^{784 \\times 10} b\\in R^{1 \\times 10} $$"
   ]
  },
  {
   "cell_type": "code",
   "execution_count": 14,
   "metadata": {
    "ExecuteTime": {
     "end_time": "2020-07-06T22:29:41.657814Z",
     "start_time": "2020-07-06T22:29:41.646815Z"
    }
   },
   "outputs": [],
   "source": [
    "num_inputs = 784\n",
    "num_outputs = 10\n",
    "W = nd.random_normal(shape=(num_inputs, num_outputs),ctx=model_ctx)\n",
    "b = nd.random_normal(shape=num_outputs,ctx=model_ctx)\n",
    "params = [W, b]"
   ]
  },
  {
   "cell_type": "markdown",
   "metadata": {
    "ExecuteTime": {
     "end_time": "2020-07-01T23:39:49.571449Z",
     "start_time": "2020-07-01T23:39:49.560278Z"
    }
   },
   "source": [
    "### we will be updating our model parameters using gradient descent so we need to $\\textbf{attached gradients}$ to  the parameters\n"
   ]
  },
  {
   "cell_type": "code",
   "execution_count": 15,
   "metadata": {
    "ExecuteTime": {
     "end_time": "2020-07-06T22:29:45.980486Z",
     "start_time": "2020-07-06T22:29:45.973488Z"
    }
   },
   "outputs": [],
   "source": [
    "for param in params:\n",
    "    param.attach_grad()"
   ]
  },
  {
   "cell_type": "markdown",
   "metadata": {},
   "source": [
    "## defining the softmax model"
   ]
  },
  {
   "cell_type": "code",
   "execution_count": 16,
   "metadata": {
    "ExecuteTime": {
     "end_time": "2020-07-06T22:29:54.575359Z",
     "start_time": "2020-07-06T22:29:54.568355Z"
    }
   },
   "outputs": [],
   "source": [
    "def softmax(X):\n",
    "    exp = nd.exp(X)\n",
    "    norms_cost = exp.sum(axis=1, keepdims=True)\n",
    "    return exp / norms_cost"
   ]
  },
  {
   "cell_type": "code",
   "execution_count": 17,
   "metadata": {
    "ExecuteTime": {
     "end_time": "2020-07-06T22:29:55.422168Z",
     "start_time": "2020-07-06T22:29:55.416170Z"
    }
   },
   "outputs": [],
   "source": [
    "def net(X):\n",
    "    y_linear = nd.dot(X, W) + b\n",
    "    probs = softmax(y_linear)\n",
    "    return probs"
   ]
  },
  {
   "cell_type": "markdown",
   "metadata": {},
   "source": [
    "# loss function\n",
    "A loss function— defines the feedback signal used for learning ( measures how well the model predictions match that of the true label)"
   ]
  },
  {
   "cell_type": "code",
   "execution_count": 18,
   "metadata": {
    "ExecuteTime": {
     "end_time": "2020-07-06T22:30:02.634320Z",
     "start_time": "2020-07-06T22:30:02.630324Z"
    }
   },
   "outputs": [],
   "source": [
    "def cross_entropy(yhat, y):\n",
    "    return - nd.sum(y * nd.log(yhat))"
   ]
  },
  {
   "cell_type": "markdown",
   "metadata": {},
   "source": [
    "# Optimizer\n",
    "An optimizer—A mechanism to update the model parameters\n",
    "\n",
    " we will use minibatch stochastic gradient descent with a learning rate of 0:5 as the optimization algorithm\n",
    " \n",
    "## NOTE\n",
    "The learning rate is tuning parameter which determines how big a step is taking along the gradient in order to find a better weight. A too high value will make the learning jump over the minima but smaller values slow it down and will take too long to converge"
   ]
  },
  {
   "cell_type": "code",
   "execution_count": 19,
   "metadata": {
    "ExecuteTime": {
     "end_time": "2020-07-06T22:30:05.010634Z",
     "start_time": "2020-07-06T22:30:05.006634Z"
    }
   },
   "outputs": [],
   "source": [
    "def SGD(params, lr,batch_size):    \n",
    "    for param in params:\n",
    "        param[:] = param - lr * param.grad/batch_size"
   ]
  },
  {
   "cell_type": "markdown",
   "metadata": {},
   "source": [
    "# Evaluation metrics to evaluate the model"
   ]
  },
  {
   "cell_type": "code",
   "execution_count": 20,
   "metadata": {
    "ExecuteTime": {
     "end_time": "2020-07-06T22:30:05.658490Z",
     "start_time": "2020-07-06T22:30:05.652491Z"
    }
   },
   "outputs": [],
   "source": [
    "def evaluate_accuracy(data_iterator, net):\n",
    "    pred_correct = 0.\n",
    "    for i ,(data,label) in enumerate(data_iterator):\n",
    "        data=data.as_in_context(model_ctx).reshape(-1,784)\n",
    "        label=label.as_in_context(model_ctx)\n",
    "        one_hot=nd.one_hot(label,10)\n",
    "        output=net(data)\n",
    "        pred=nd.argmax(output,axis=1)\n",
    "        pred_correct=nd.sum(pred==label)\n",
    "        return (pred_correct/len(data)).asscalar()"
   ]
  },
  {
   "cell_type": "code",
   "execution_count": 21,
   "metadata": {
    "ExecuteTime": {
     "end_time": "2020-07-06T22:31:04.175795Z",
     "start_time": "2020-07-06T22:31:04.125805Z"
    }
   },
   "outputs": [
    {
     "data": {
      "text/plain": [
       "0.0875"
      ]
     },
     "execution_count": 21,
     "metadata": {},
     "output_type": "execute_result"
    }
   ],
   "source": [
    "evaluate_accuracy(test_data, net)"
   ]
  },
  {
   "cell_type": "markdown",
   "metadata": {},
   "source": [
    "# Training the model"
   ]
  },
  {
   "cell_type": "code",
   "execution_count": 22,
   "metadata": {
    "ExecuteTime": {
     "end_time": "2020-07-06T22:37:35.735139Z",
     "start_time": "2020-07-06T22:31:05.248391Z"
    }
   },
   "outputs": [
    {
     "name": "stdout",
     "output_type": "stream",
     "text": [
      "Epoch 0. Loss: 9.20377909749349, Train_acc 0.2125, Test_acc 0.1875\n",
      "Epoch 1. Loss: 5.388397652689616, Train_acc 0.35, Test_acc 0.35\n",
      "Epoch 2. Loss: 4.014106680043539, Train_acc 0.6, Test_acc 0.4125\n",
      "Epoch 3. Loss: 3.230642574310303, Train_acc 0.5, Test_acc 0.4875\n",
      "Epoch 4. Loss: 2.727163686498006, Train_acc 0.5875, Test_acc 0.4875\n",
      "Epoch 5. Loss: 2.3834525862375897, Train_acc 0.6, Test_acc 0.5375\n",
      "Epoch 6. Loss: 2.13699893544515, Train_acc 0.6125, Test_acc 0.6\n",
      "Epoch 7. Loss: 1.9522124556223552, Train_acc 0.6125, Test_acc 0.625\n",
      "Epoch 8. Loss: 1.8085036061604818, Train_acc 0.7125, Test_acc 0.625\n",
      "Epoch 9. Loss: 1.6929135046005248, Train_acc 0.65, Test_acc 0.65\n",
      "Epoch 10. Loss: 1.5981280768076578, Train_acc 0.7375, Test_acc 0.6625\n",
      "Epoch 11. Loss: 1.5187535309473674, Train_acc 0.6, Test_acc 0.675\n",
      "Epoch 12. Loss: 1.4510313093821208, Train_acc 0.65, Test_acc 0.6875\n",
      "Epoch 13. Loss: 1.3926135765075685, Train_acc 0.775, Test_acc 0.6875\n",
      "Epoch 14. Loss: 1.3415942284266154, Train_acc 0.75, Test_acc 0.7\n",
      "Epoch 15. Loss: 1.2964654605229695, Train_acc 0.7625, Test_acc 0.7375\n",
      "Epoch 16. Loss: 1.2564107343673705, Train_acc 0.6875, Test_acc 0.75\n",
      "Epoch 17. Loss: 1.220407124710083, Train_acc 0.85, Test_acc 0.775\n",
      "Epoch 18. Loss: 1.1879373332341512, Train_acc 0.7875, Test_acc 0.775\n",
      "Epoch 19. Loss: 1.158384510231018, Train_acc 0.7875, Test_acc 0.7875\n"
     ]
    }
   ],
   "source": [
    "epochs = 20\n",
    "learning_rate = .005\n",
    "num_examples = len(mnist_train)\n",
    "for e in range(epochs):\n",
    "    cumulative_loss = 0\n",
    "    for i, (data, label) in enumerate(train_data):\n",
    "        data = data.as_in_context(model_ctx).reshape((-1,784))\n",
    "        label = label.as_in_context(model_ctx)\n",
    "        label_one_hot = nd.one_hot(label, 10)\n",
    "        with autograd.record():\n",
    "            output = net(data)\n",
    "            loss = cross_entropy(output, label_one_hot)\n",
    "        loss.backward()\n",
    "        SGD(params, learning_rate,batch_size=batch_size)\n",
    "        cumulative_loss += nd.sum(loss).asscalar()        \n",
    "    test_accuracy = evaluate_accuracy(test_data, net)\n",
    "    train_accuracy = evaluate_accuracy(train_data, net)\n",
    "    print(\"Epoch %s. Loss: %s, Train_acc %s, Test_acc %s\" % (e, cumulative_loss/num_examples, train_accuracy, test_accuracy))       "
   ]
  },
  {
   "cell_type": "code",
   "execution_count": 23,
   "metadata": {
    "ExecuteTime": {
     "end_time": "2020-07-06T22:37:35.928141Z",
     "start_time": "2020-07-06T22:37:35.741139Z"
    }
   },
   "outputs": [
    {
     "name": "stdout",
     "output_type": "stream",
     "text": [
      "(10, 28, 28, 1) \n",
      "\n",
      "the true labels are\n"
     ]
    },
    {
     "data": {
      "image/png": "[encoded data removed]",
      "text/plain": [
       "<Figure size 432x288 with 1 Axes>"
      ]
     },
     "metadata": {},
     "output_type": "display_data"
    },
    {
     "name": "stdout",
     "output_type": "stream",
     "text": [
      "model predictions are: \n",
      "[0. 7. 9. 0. 4. 8. 5. 1. 9. 7.]\n",
      "<NDArray 10 @cpu(0)>\n"
     ]
    }
   ],
   "source": [
    "# Define the function to do prediction\n",
    "def model_predict(net,data):\n",
    "    output = net(data)\n",
    "    return nd.argmax(output, axis=1)\n",
    "\n",
    "# let's sample 10 random data points from the test set\n",
    "sample_data = mx.gluon.data.DataLoader(mnist_test, 10, shuffle=True)\n",
    "for i, (data, label) in enumerate(sample_data):\n",
    "    data = data.as_in_context(model_ctx)\n",
    "    print(data.shape,'\\n')\n",
    "    print('the true labels are')\n",
    "    im = nd.transpose(data,(1,0,2,3))\n",
    "    im = nd.reshape(im,(28,10*28,1))\n",
    "    imtiles = nd.tile(im, (1,1,3))\n",
    "    \n",
    "    plt.imshow(imtiles.asnumpy())\n",
    "    plt.show()\n",
    "    pred=model_predict(net,data.reshape((-1,784)))\n",
    "    print('model predictions are:', pred)\n",
    "    break"
   ]
  },
  {
   "cell_type": "code",
   "execution_count": null,
   "metadata": {},
   "outputs": [],
   "source": []
  },
  {
   "cell_type": "code",
   "execution_count": null,
   "metadata": {},
   "outputs": [],
   "source": []
  }
 ],
 "metadata": {
  "kernelspec": {
   "display_name": "Python 3",
   "language": "python",
   "name": "python3"
  },
  "language_info": {
   "codemirror_mode": {
    "name": "ipython",
    "version": 3
   },
   "file_extension": ".py",
   "mimetype": "text/x-python",
   "name": "python",
   "nbconvert_exporter": "python",
   "pygments_lexer": "ipython3",
   "version": "3.6.5"
  }
 },
 "nbformat": 4,
 "nbformat_minor": 2
}
