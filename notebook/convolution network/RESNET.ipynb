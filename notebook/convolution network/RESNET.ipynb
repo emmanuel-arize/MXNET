{
 "cells": [
  {
   "cell_type": "markdown",
   "metadata": {
    "toc": true
   },
   "source": [
    "<h1>Table of Contents<span class=\"tocSkip\"></span></h1>\n",
    "<div class=\"toc\"><ul class=\"toc-item\"></ul></div>"
   ]
  },
  {
   "cell_type": "code",
   "execution_count": 1,
   "metadata": {},
   "outputs": [],
   "source": [
    "import d2l\n",
    "import mxnet\n",
    "from mxnet import gluon,npx,np\n",
    "from mxnet.gluon import nn\n",
    "npx.set_np()"
   ]
  },
  {
   "cell_type": "markdown",
   "metadata": {},
   "source": [
    "<p>To understand how resnet work read </p>\n",
    "<a href='https://arxiv.org/pdf/1512.03385.pdf'>Deep Residual Learning for Image Recognition<a/>\n",
    "    \n",
    "<a href='https://arxiv.org/pdf/1603.05027.pdf'>Identity Mappings in Deep Residual Networks</a>"
   ]
  },
  {
   "cell_type": "markdown",
   "metadata": {},
   "source": [
    "<img src=\"images/resnet.jpg\"  width='1000px'>\n",
    "Source:  <a href='https://arxiv.org/pdf/1512.03385.pdf'>Deep Residual Learning for Image Recognition<a/>\n",
    "  "
   ]
  },
  {
   "cell_type": "code",
   "execution_count": 2,
   "metadata": {},
   "outputs": [],
   "source": [
    "class Residual(nn.Block):\n",
    "    def __init__(self,num_channels,strides=1,downsample=False,**kwargs):\n",
    "        super().__init__(**kwargs)\n",
    "        self.cov1=nn.Conv2D(num_channels,kernel_size=3,strides=strides,padding=1)\n",
    "        self.cov2=nn.Conv2D(num_channels,kernel_size=3,padding=1)\n",
    "        if downsample:\n",
    "            self.downsample=nn.Conv2D(num_channels,kernel_size=1,strides=strides)\n",
    "        else:\n",
    "            self.downsample=None\n",
    "        self.bn1=nn.BatchNorm()\n",
    "        self.bn2=nn.BatchNorm()\n",
    "        \n",
    "    def forward(self,x):\n",
    "        h_x=npx.relu(self.bn1(self.cov1(x)))\n",
    "        h_x=self.bn2(self.cov2(h_x))\n",
    "        if self.downsample:\n",
    "            x=self.downsample(x)\n",
    "        return npx.relu(h_x+x)"
   ]
  },
  {
   "cell_type": "code",
   "execution_count": 3,
   "metadata": {},
   "outputs": [],
   "source": [
    "def resnet_block(num_channels,num_residuals,first_block=False):\n",
    "    blk=nn.Sequential()\n",
    "    for i in range(num_residuals):\n",
    "        if i==0 and not first_block:\n",
    "            blk.add(Residual(num_channels,downsample=True,strides=2))\n",
    "        else:\n",
    "            blk.add(Residual(num_channels))\n",
    "    return blk\n",
    "\n",
    "resnet34=nn.Sequential()\n",
    "resnet34.add(  nn.Conv2D(64,kernel_size=7,strides=2,padding=3),\n",
    "             nn.BatchNorm(),\n",
    "             nn.Activation('relu'),\n",
    "             nn.MaxPool2D(pool_size=3,strides=2,padding=1),\n",
    "             resnet_block(num_channels=64,num_residuals=3,first_block=True),\n",
    "             resnet_block(128,4),\n",
    "             resnet_block(256,6),\n",
    "             resnet_block(512,3),\n",
    "             nn.GlobalAvgPool2D(),\n",
    "             nn.Dense(10))"
   ]
  },
  {
   "cell_type": "code",
   "execution_count": 4,
   "metadata": {},
   "outputs": [],
   "source": [
    "X=np.random.uniform(size=(1,1,28,28))\n",
    "resnet34.initialize()"
   ]
  },
  {
   "cell_type": "code",
   "execution_count": 5,
   "metadata": {},
   "outputs": [
    {
     "name": "stdout",
     "output_type": "stream",
     "text": [
      "conv0 output shape:\t (1, 64, 14, 14)\n",
      "batchnorm0 output shape:\t (1, 64, 14, 14)\n",
      "relu0 output shape:\t (1, 64, 14, 14)\n",
      "pool0 output shape:\t (1, 64, 7, 7)\n",
      "sequential1 output shape:\t (1, 64, 7, 7)\n",
      "sequential2 output shape:\t (1, 128, 4, 4)\n",
      "sequential3 output shape:\t (1, 256, 2, 2)\n",
      "sequential4 output shape:\t (1, 512, 1, 1)\n",
      "pool1 output shape:\t (1, 512, 1, 1)\n",
      "dense0 output shape:\t (1, 10)\n"
     ]
    }
   ],
   "source": [
    "for layer in resnet34:\n",
    "    X=layer(X)\n",
    "    print(layer.name, 'output shape:\\t', X.shape)"
   ]
  },
  {
   "cell_type": "code",
   "execution_count": null,
   "metadata": {},
   "outputs": [],
   "source": []
  }
 ],
 "metadata": {
  "kernelspec": {
   "display_name": "Python 3",
   "language": "python",
   "name": "python3"
  },
  "language_info": {
   "codemirror_mode": {
    "name": "ipython",
    "version": 3
   },
   "file_extension": ".py",
   "mimetype": "text/x-python",
   "name": "python",
   "nbconvert_exporter": "python",
   "pygments_lexer": "ipython3",
   "version": "3.6.5"
  },
  "latex_envs": {
   "LaTeX_envs_menu_present": true,
   "autoclose": false,
   "autocomplete": true,
   "bibliofile": "biblio.bib",
   "cite_by": "apalike",
   "current_citInitial": 1,
   "eqLabelWithNumbers": true,
   "eqNumInitial": 1,
   "hotkeys": {
    "equation": "Ctrl-E",
    "itemize": "Ctrl-I"
   },
   "labels_anchors": false,
   "latex_user_defs": false,
   "report_style_numbering": false,
   "user_envs_cfg": false
  },
  "nbTranslate": {
   "displayLangs": [
    "*"
   ],
   "hotkey": "alt-t",
   "langInMainMenu": true,
   "sourceLang": "en",
   "targetLang": "fr",
   "useGoogleTranslate": true
  },
  "toc": {
   "base_numbering": 1,
   "nav_menu": {},
   "number_sections": true,
   "sideBar": true,
   "skip_h1_title": true,
   "title_cell": "Table of Contents",
   "title_sidebar": "Contents",
   "toc_cell": true,
   "toc_position": {},
   "toc_section_display": true,
   "toc_window_display": true
  }
 },
 "nbformat": 4,
 "nbformat_minor": 2
}
