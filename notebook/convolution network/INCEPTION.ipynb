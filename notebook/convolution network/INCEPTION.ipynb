{
 "cells": [
  {
   "cell_type": "markdown",
   "metadata": {
    "toc": true
   },
   "source": [
    "<h1>Table of Contents<span class=\"tocSkip\"></span></h1>\n",
    "<div class=\"toc\"><ul class=\"toc-item\"><li><span><a href=\"#INCEPTION\" data-toc-modified-id=\"INCEPTION-1\"><span class=\"toc-item-num\">1&nbsp;&nbsp;</span>INCEPTION</a></span></li></ul></div>"
   ]
  },
  {
   "cell_type": "code",
   "execution_count": 1,
   "metadata": {},
   "outputs": [],
   "source": [
    "import mxnet\n",
    "from mxnet import gluon,npx,np,autograd\n",
    "from mxnet.gluon import nn\n",
    "npx.set_np()"
   ]
  },
  {
   "cell_type": "markdown",
   "metadata": {},
   "source": [
    "## INCEPTION\n",
    "<img src=\"../images/inception.jpg\" />"
   ]
  },
  {
   "cell_type": "code",
   "execution_count": 2,
   "metadata": {},
   "outputs": [],
   "source": [
    "class Inception_block(nn.Block):\n",
    "    def __init__(self,c1,c2,c3,c4,**kwargs):\n",
    "        super().__init__(**kwargs)\n",
    "        # Path 1 is a single 1 x 1 convolutional layer\n",
    "        self.p1_1=nn.Conv2D(c1,kernel_size=1,activation='relu')\n",
    "        # Path 2 is a 1 x 1 convolutional layer followed by a 3 x 3\n",
    "        # convolutional layer\n",
    "        self.p2_1=nn.Conv2D(c2[0],kernel_size=1,activation='relu')\n",
    "        self.p2_2=nn.Conv2D(c2[1],kernel_size=3,padding=1,activation='relu')\n",
    "        # Path 2 is a 1 x 1 convolutional layer followed by a 5 x 5\n",
    "        # convolutional layer\n",
    "        self.p3_1=nn.Conv2D(c3[0],kernel_size=1,activation='relu')\n",
    "        self.p3_2=nn.Conv2D(c3[1],kernel_size=5,padding=2,activation='relu')\n",
    "        # Path 4 is a 3 x 3 maximum pooling layer followed by a 1 x 1\n",
    "        # convolutional layer\n",
    "        self.p4_1=nn.MaxPool2D(pool_size=3,padding=1,strides=1)\n",
    "        self.p4_2=nn.Conv2D(c4,kernel_size=1,activation='relu')\n",
    "    def forward(self,x):\n",
    "        p1=self.p1_1(x)\n",
    "        p2=self.p2_2(self.p2_1(x))\n",
    "        p3=self.p3_2(self.p3_1(x))\n",
    "        p4=self.p4_2(self.p4_1(x))\n",
    "        return np.concatenate((p1,p2,p3,p4),axis=1)"
   ]
  },
  {
   "cell_type": "markdown",
   "metadata": {},
   "source": [
    "GoogLeNet uses a stack of a total of 9 inception blocks and global average pooling to generate its estimates. Maximum pooling between inception blocks reduced the\n",
    "dimensionality. The first part is identical to AlexNet and LeNet, the stack of blocks is inherited\n",
    "from VGG and the global average pooling avoids a stack of fully-connected layers at the end. The\n",
    "architecture is depicted below\n",
    "<img src=\"../images/inception1.jpg\" />\n",
    "<img src=\"../images/inception2.jpg\" />"
   ]
  },
  {
   "cell_type": "code",
   "execution_count": 3,
   "metadata": {},
   "outputs": [],
   "source": [
    "inception=nn.Sequential()\n",
    "inception.add(nn.Conv2D(64,kernel_size=7,strides=2,padding=1,activation='relu'),\n",
    "              nn.MaxPool2D(pool_size=3,padding=1,strides=2),\n",
    "              \n",
    "              nn.Conv2D(64,kernel_size=1,activation='relu'),\n",
    "              nn.Conv2D(192,kernel_size=3,padding=1,activation='relu'),\n",
    "              nn.MaxPool2D(pool_size=3,padding=1,strides=2),\n",
    "              # inception(3a)\n",
    "              Inception_block(c1=64,c2=(96,128),c3=(16,32),c4=32),\n",
    "              # inception(3b)\n",
    "              Inception_block(c1=128,c2=(128,192),c3=(32,96),c4=64),\n",
    "              nn.MaxPool2D(pool_size=3,strides=2,padding=1),\n",
    "              # inception(4a)\n",
    "              Inception_block(c1=192,c2=(96,208),c3=(16,48),c4=64),\n",
    "              # inception(4b)\n",
    "              Inception_block(c1=160,c2=(112,224),c3=(24,64),c4=64),\n",
    "              # inception(4c)\n",
    "              Inception_block(c1=128,c2=(128,256),c3=(24,64),c4=64),\n",
    "              # inception(4d)\n",
    "              Inception_block(112,(144,288),(32,64),64),\n",
    "              # inception(4e)\n",
    "              Inception_block(256,(160,320),(32,128),128),\n",
    "              nn.MaxPool2D(pool_size=3,strides=2,padding=1),\n",
    "              # inception(5a)\n",
    "              Inception_block(256, (160, 320), (32, 128), 128),\n",
    "              # inception(5b)\n",
    "              Inception_block(384, (192, 384), (48, 128), 128),\n",
    "              nn.GlobalAvgPool2D(),\n",
    "              nn.Dense(10)\n",
    "              )"
   ]
  },
  {
   "cell_type": "code",
   "execution_count": 4,
   "metadata": {},
   "outputs": [
    {
     "name": "stdout",
     "output_type": "stream",
     "text": [
      "conv0 output shape:\t (1, 64, 46, 46)\n",
      "pool0 output shape:\t (1, 64, 23, 23)\n",
      "conv1 output shape:\t (1, 64, 23, 23)\n",
      "conv2 output shape:\t (1, 192, 23, 23)\n",
      "pool1 output shape:\t (1, 192, 12, 12)\n",
      "inception_block0 output shape:\t (1, 256, 12, 12)\n",
      "inception_block1 output shape:\t (1, 480, 12, 12)\n",
      "pool4 output shape:\t (1, 480, 6, 6)\n",
      "inception_block2 output shape:\t (1, 512, 6, 6)\n",
      "inception_block3 output shape:\t (1, 512, 6, 6)\n",
      "inception_block4 output shape:\t (1, 512, 6, 6)\n",
      "inception_block5 output shape:\t (1, 528, 6, 6)\n",
      "inception_block6 output shape:\t (1, 832, 6, 6)\n",
      "pool10 output shape:\t (1, 832, 3, 3)\n",
      "inception_block7 output shape:\t (1, 832, 3, 3)\n",
      "inception_block8 output shape:\t (1, 1024, 3, 3)\n",
      "pool13 output shape:\t (1, 1024, 1, 1)\n",
      "dense0 output shape:\t (1, 10)\n"
     ]
    }
   ],
   "source": [
    "X = np.random.uniform(size=(1, 1, 96, 96))\n",
    "inception.initialize()\n",
    "for layer in inception:\n",
    "    X = layer(X)\n",
    "    print(layer.name, 'output shape:\\t', X.shape)"
   ]
  },
  {
   "cell_type": "code",
   "execution_count": null,
   "metadata": {},
   "outputs": [],
   "source": []
  }
 ],
 "metadata": {
  "kernelspec": {
   "display_name": "Python 3",
   "language": "python",
   "name": "python3"
  },
  "language_info": {
   "codemirror_mode": {
    "name": "ipython",
    "version": 3
   },
   "file_extension": ".py",
   "mimetype": "text/x-python",
   "name": "python",
   "nbconvert_exporter": "python",
   "pygments_lexer": "ipython3",
   "version": "3.6.5"
  },
  "latex_envs": {
   "LaTeX_envs_menu_present": true,
   "autoclose": false,
   "autocomplete": true,
   "bibliofile": "biblio.bib",
   "cite_by": "apalike",
   "current_citInitial": 1,
   "eqLabelWithNumbers": true,
   "eqNumInitial": 1,
   "hotkeys": {
    "equation": "Ctrl-E",
    "itemize": "Ctrl-I"
   },
   "labels_anchors": false,
   "latex_user_defs": false,
   "report_style_numbering": false,
   "user_envs_cfg": false
  },
  "nbTranslate": {
   "displayLangs": [
    "*"
   ],
   "hotkey": "alt-t",
   "langInMainMenu": true,
   "sourceLang": "en",
   "targetLang": "fr",
   "useGoogleTranslate": true
  },
  "toc": {
   "base_numbering": 1,
   "nav_menu": {},
   "number_sections": true,
   "sideBar": true,
   "skip_h1_title": true,
   "title_cell": "Table of Contents",
   "title_sidebar": "Contents",
   "toc_cell": true,
   "toc_position": {},
   "toc_section_display": true,
   "toc_window_display": true
  }
 },
 "nbformat": 4,
 "nbformat_minor": 2
}
