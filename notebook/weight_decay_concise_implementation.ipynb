{
 "cells": [
  {
   "cell_type": "markdown",
   "metadata": {},
   "source": [
    "# Model Selection, Underfitting and Overfitting\n",
    "\n",
    "-------\n",
    "\n",
    "The goal of machine learning is find a learning algorithm (algorithm that is able to learn from data) or simply model, train a model by adjusting the model parameters to get the best possible performance, both on the training (with minimum training error) and the test dat or new inputs (the trained model must be able to generalized well with minimum generalization error or test error) but the challenge in machine learning is how well does the trained model perform not just on the training data, but also on new unseen inputs (test inputs).This is a fundamental problem in machine learning between <b> optimization (the process of adjusting a model parameters to give the best possible performance on the training data) and generalization (how well does the trained model performs on newly unseen data) because a trained model can perform well well on the training dataset but performs poorly on newly unseen data points.</b>\n",
    "\n",
    "\n",
    "# NOTE\n",
    "------\n",
    "<h3 style='color:blue'>The training error is the error of our model as calculated on the training dataset</h3>\n",
    "<h3 style='color:blue'>The generalization error is the expected value of the error on a test or new data points drawn from the same underlying data distribution as our original sample</h3>\n",
    "\n",
    "\n",
    "---\n",
    "---\n",
    "\n",
    "```\n",
    "The factors determining how well a machine learning algorithm will perform are its ability to:\n",
    "1. Make the training error small.\n",
    "2. Make the gap between training and test error small.\n",
    "These two factors correspond to the two central challenges in machine learning: underfitting and overfitting.\n",
    "\n",
    "(source: From the book, Deep Learning by Ian Goodfellow,Yoshua Bengio and Aaron Courville, page 111) \n",
    "```"
   ]
  },
  {
   "cell_type": "markdown",
   "metadata": {},
   "source": [
    "# Overftting\n",
    "\n",
    "-------\n",
    "When the complexity of the model is too high (highly flexible models) as compared to the underlying distribution of the data the model is trying to learn from, it tends to learn the noise present in data and is called overfitting. An Overfitted models has it training error much lower than validation error. <b>An overfitted model fails to Generalize well and has high Variance and Low Bias and the techniques used to combat overfitting are called regularization</b>."
   ]
  },
  {
   "cell_type": "markdown",
   "metadata": {},
   "source": [
    "# Underfitting\n",
    "----\n",
    "Underfitting occurs when the model can neither obtain sufficiently low error value on the training set nor generalize to new data and has low Variance and high Bias. Underfitted models are not able to reduce the training error. W"
   ]
  },
  {
   "cell_type": "markdown",
   "metadata": {},
   "source": [
    "# Regularization\n",
    "----\n",
    "\n",
    "## Regularization are techniques used to combat overfitting  and this reduces the test error or generalization erro\n",
    "\n",
    "```\n",
    " Regularization is any modification we make to a learning algorithm that is intended to reduce its generalization error \n",
    " but not its training error\n",
    " \n",
    " (source: From the book, Deep Learning by Ian Goodfellow,Yoshua Bengio and Aaron Courville, page 120)\n",
    "```"
   ]
  },
  {
   "cell_type": "markdown",
   "metadata": {},
   "source": [
    "#  WEIGHT  REGULARIZATION\n",
    "<img src='images/we.jpg'>\n",
    "(source: From the book, Deep Learning by Ian Goodfellow,Yoshua Bengio and Aaron Courville, page 120)\n",
    "<img src='images/weight.jpg'>\n",
    "(source: From the book, Deep Learning with python by François Chollet, page 107)"
   ]
  },
  {
   "cell_type": "markdown",
   "metadata": {},
   "source": [
    "\n",
    "# 1. Weight decay is also known as L2 regularization or ridge regression or Tikhonov regularization\n",
    "\n",
    "<b>L2 regularization is also called weight decay in the context of neural networks</b> prevent the weights from growing too large unless it is really necessary. It can be realized by\n",
    "adding a term to the cost OR objective function that penalizes large weights and is defined as\n",
    "\n",
    "$$\\tilde{\\ell}(w)=\\ell(w) + \\frac{\\lambda}{2}w^{2} $$\n",
    "\n",
    "where $ \\tilde{\\ell}$ is the regularized cost fucbtion $\\ell_{0}$ is an error measure (usually the sum of squared errors) and $\\lambda$ is a hyperparameter chosen ahead of time that controls how weights are penalized. (weights the relative contribution of the norm penalty term $w^{2} $  relative to the standard objective function $\\ell$)\n"
   ]
  },
  {
   "cell_type": "markdown",
   "metadata": {},
   "source": [
    "\n",
    "with the corresponding parameter gradient\n",
    "$$\\bigtriangledown \\tilde{\\ell}_{w}(w)=\\bigtriangledown \\ell_{w}(w) + \\lambda w $$\n",
    "\n",
    "The new updated weight after an iteration can be expressed as\n",
    "$$w=w-\\eta \\bigtriangledown\\tilde{\\ell}_{w}(w)=w-\\eta(\\lambda w +\\bigtriangledown \\ell_{w}(w)) $$\n",
    "\n",
    "$$ w=(1- \\eta\\lambda) w -\\eta \\bigtriangledown \\ell_{w}(w)) $$\n",
    "where $\\eta$ is the learning rate\n",
    "\n",
    "\n",
    "The addition of the weight decay term has modified the learning rule of the weight vector by a constant factor on each step just before updating the weights"
   ]
  },
  {
   "cell_type": "code",
   "execution_count": null,
   "metadata": {},
   "outputs": [],
   "source": []
  },
  {
   "cell_type": "markdown",
   "metadata": {},
   "source": [
    "For linear regression, the objective function, sum of squared errors is defined as\n",
    "$$e=(Xw-y)^{T}(Xw-y)$$\n",
    "\n",
    "When L2 regularization is added, the objective function changes to\n",
    "$$e=(Xw-y)^{T}(Xw-y)+ \\frac{\\lambda}{2}w^{2}$$\n",
    "\n",
    "and this the solution $w$ from\n",
    "$$ w=(XX^{T})^{-1}X^{T}y $$\n",
    "\n",
    "$$ To$$\n",
    "\n",
    "$$ w=(XX^{T}   + \\lambda  I )^{-1}X^{T}y $$\n",
    "\n",
    "Where the diagonal entries of this matrix $ \\lambda  I $ correspond to the variance of each input feature"
   ]
  },
  {
   "cell_type": "code",
   "execution_count": null,
   "metadata": {},
   "outputs": [],
   "source": []
  },
  {
   "cell_type": "markdown",
   "metadata": {},
   "source": [
    "<img src='images/lp.jpg'>\n",
    " (source: From the book am using: Dive into Deep Learning by Aston Zhang, Zachary C. Lipton, Mu Li, and Alexander J. Smola page 155-156)"
   ]
  },
  {
   "cell_type": "markdown",
   "metadata": {},
   "source": [
    "For more on the effects of weight regularization \n",
    "<a href='papers/563-a-simple-weight-decay-can-improve-generalization.pdf'>A Simple Weight Decay Can Improve Generalization by Anders Krogh and John A. Hertz</a>"
   ]
  },
  {
   "cell_type": "code",
   "execution_count": null,
   "metadata": {},
   "outputs": [],
   "source": []
  },
  {
   "cell_type": "markdown",
   "metadata": {
    "ExecuteTime": {
     "end_time": "2020-09-07T22:57:55.990446Z",
     "start_time": "2020-09-07T22:57:55.947447Z"
    }
   },
   "source": [
    "# High-Dimensional Linear Regression"
   ]
  },
  {
   "cell_type": "code",
   "execution_count": 1,
   "metadata": {
    "ExecuteTime": {
     "end_time": "2020-09-11T16:35:30.553689Z",
     "start_time": "2020-09-11T16:35:26.648207Z"
    }
   },
   "outputs": [],
   "source": [
    "import d2l\n",
    "from mxnet import gluon, npx,np,init,autograd\n",
    "from mxnet.gluon import nn\n",
    "import mxnet\n",
    "%matplotlib inline\n",
    "npx.set_np()"
   ]
  },
  {
   "cell_type": "markdown",
   "metadata": {},
   "source": [
    "<img src='images/highp.jpg'>\n",
    "(source: From the book am using: Dive into Deep Learning by Aston Zhang, Zachary C. Lipton, Mu Li, and Alexander J. Smola page 156)"
   ]
  },
  {
   "cell_type": "code",
   "execution_count": 2,
   "metadata": {
    "ExecuteTime": {
     "end_time": "2020-09-11T16:35:30.576273Z",
     "start_time": "2020-09-11T16:35:30.558619Z"
    }
   },
   "outputs": [],
   "source": [
    "n_train, n_test, num_inputs, batch_size = 20, 100, 200, 5\n",
    "true_w, true_b=np.zeros((num_inputs,1))*0.01,0.05"
   ]
  },
  {
   "cell_type": "code",
   "execution_count": 3,
   "metadata": {
    "ExecuteTime": {
     "end_time": "2020-09-11T16:35:30.609271Z",
     "start_time": "2020-09-11T16:35:30.589278Z"
    }
   },
   "outputs": [],
   "source": [
    "features, y_train= d2l.synthetic_data(true_w, true_b, n_train)\n",
    "x_test, y_test= d2l.synthetic_data(true_w, true_b, n_train)\n",
    "train_iter = d2l.load_array((features, y_train), batch_size)\n",
    "test_data = d2l.synthetic_data(true_w, true_b, n_test)\n",
    "test_iter = d2l.load_array(test_data, batch_size, is_train=False)"
   ]
  },
  {
   "cell_type": "markdown",
   "metadata": {},
   "source": [
    "# defining our model"
   ]
  },
  {
   "cell_type": "code",
   "execution_count": 4,
   "metadata": {
    "ExecuteTime": {
     "end_time": "2020-09-11T16:35:30.628270Z",
     "start_time": "2020-09-11T16:35:30.622271Z"
    }
   },
   "outputs": [],
   "source": [
    "net=gluon.nn.Sequential()\n",
    "#net.add(gluon.nn.Dense(20,activation='relu'))\n",
    "net.add(gluon.nn.Dense(1))"
   ]
  },
  {
   "cell_type": "markdown",
   "metadata": {},
   "source": [
    "# Initializing Model Parameters"
   ]
  },
  {
   "cell_type": "code",
   "execution_count": 5,
   "metadata": {
    "ExecuteTime": {
     "end_time": "2020-09-11T16:35:30.648273Z",
     "start_time": "2020-09-11T16:35:30.638271Z"
    }
   },
   "outputs": [],
   "source": [
    "net.initialize(mxnet.init.Normal())"
   ]
  },
  {
   "cell_type": "markdown",
   "metadata": {},
   "source": [
    "# l2 regularization"
   ]
  },
  {
   "cell_type": "markdown",
   "metadata": {
    "ExecuteTime": {
     "end_time": "2020-09-11T16:26:28.173908Z",
     "start_time": "2020-09-11T16:26:28.140905Z"
    }
   },
   "source": [
    "# gluon.loss.L2Loss\n",
    "L2Loss(Loss): Calculates the mean squared error between `label` and `pred`.\n",
    "\n",
    "  $$ L = \\frac{1}{2} \\sum_i \\vert {label}_i - {pred}_i \\vert^2$$"
   ]
  },
  {
   "cell_type": "code",
   "execution_count": 6,
   "metadata": {
    "ExecuteTime": {
     "end_time": "2020-09-11T16:35:30.662271Z",
     "start_time": "2020-09-11T16:35:30.657268Z"
    }
   },
   "outputs": [],
   "source": [
    "l2_loss=gluon.loss.L2Loss()"
   ]
  },
  {
   "cell_type": "markdown",
   "metadata": {},
   "source": [
    "# optimizer"
   ]
  },
  {
   "cell_type": "code",
   "execution_count": 7,
   "metadata": {
    "ExecuteTime": {
     "end_time": "2020-09-11T16:35:30.675273Z",
     "start_time": "2020-09-11T16:35:30.669274Z"
    }
   },
   "outputs": [],
   "source": [
    "optimizer=gluon.Trainer(net.collect_params('.*weight'), 'sgd',{'learning_rate': 0.01,'wd':4})"
   ]
  },
  {
   "cell_type": "markdown",
   "metadata": {},
   "source": [
    "# TRAINING LOOP"
   ]
  },
  {
   "cell_type": "code",
   "execution_count": 8,
   "metadata": {
    "ExecuteTime": {
     "end_time": "2020-09-11T16:35:33.557212Z",
     "start_time": "2020-09-11T16:35:30.680272Z"
    },
    "scrolled": true
   },
   "outputs": [
    {
     "name": "stdout",
     "output_type": "stream",
     "text": [
      "epoch 0, training loss: 0.027003, validation loss: 0.233873\n",
      "epoch 1, training loss: 0.010031, validation loss: 0.175761\n",
      "epoch 2, training loss: 0.004061, validation loss: 0.135716\n",
      "epoch 3, training loss: 0.001936, validation loss: 0.107246\n",
      "epoch 4, training loss: 0.001228, validation loss: 0.086421\n",
      "epoch 5, training loss: 0.000903, validation loss: 0.071606\n",
      "epoch 6, training loss: 0.000740, validation loss: 0.060605\n",
      "epoch 7, training loss: 0.000696, validation loss: 0.052405\n",
      "epoch 8, training loss: 0.000671, validation loss: 0.046444\n",
      "epoch 9, training loss: 0.000657, validation loss: 0.042019\n",
      "epoch 10, training loss: 0.000658, validation loss: 0.038791\n",
      "epoch 11, training loss: 0.000649, validation loss: 0.036291\n",
      "epoch 12, training loss: 0.000657, validation loss: 0.034500\n",
      "epoch 13, training loss: 0.000634, validation loss: 0.033120\n",
      "epoch 14, training loss: 0.000617, validation loss: 0.031939\n",
      "epoch 15, training loss: 0.000641, validation loss: 0.031015\n",
      "epoch 16, training loss: 0.000605, validation loss: 0.030388\n",
      "epoch 17, training loss: 0.000662, validation loss: 0.029883\n",
      "epoch 18, training loss: 0.000638, validation loss: 0.029506\n",
      "epoch 19, training loss: 0.000594, validation loss: 0.029215\n",
      "epoch 20, training loss: 0.000635, validation loss: 0.029002\n",
      "epoch 21, training loss: 0.000645, validation loss: 0.028779\n",
      "epoch 22, training loss: 0.000652, validation loss: 0.028618\n",
      "epoch 23, training loss: 0.000638, validation loss: 0.028506\n",
      "epoch 24, training loss: 0.000619, validation loss: 0.028343\n",
      "epoch 25, training loss: 0.000660, validation loss: 0.028289\n",
      "epoch 26, training loss: 0.000609, validation loss: 0.028241\n",
      "epoch 27, training loss: 0.000648, validation loss: 0.028252\n",
      "epoch 28, training loss: 0.000628, validation loss: 0.028123\n",
      "epoch 29, training loss: 0.000639, validation loss: 0.028109\n",
      "epoch 30, training loss: 0.000635, validation loss: 0.028001\n",
      "epoch 31, training loss: 0.000638, validation loss: 0.027936\n",
      "epoch 32, training loss: 0.000635, validation loss: 0.027972\n",
      "epoch 33, training loss: 0.000611, validation loss: 0.027907\n",
      "epoch 34, training loss: 0.000623, validation loss: 0.027879\n",
      "epoch 35, training loss: 0.000605, validation loss: 0.027834\n",
      "epoch 36, training loss: 0.000634, validation loss: 0.027837\n",
      "epoch 37, training loss: 0.000635, validation loss: 0.027890\n",
      "epoch 38, training loss: 0.000645, validation loss: 0.027827\n",
      "epoch 39, training loss: 0.000658, validation loss: 0.027811\n",
      "epoch 40, training loss: 0.000661, validation loss: 0.027911\n",
      "epoch 41, training loss: 0.000633, validation loss: 0.027812\n",
      "epoch 42, training loss: 0.000635, validation loss: 0.027909\n",
      "epoch 43, training loss: 0.000621, validation loss: 0.027846\n",
      "epoch 44, training loss: 0.000612, validation loss: 0.027711\n",
      "epoch 45, training loss: 0.000678, validation loss: 0.027751\n",
      "epoch 46, training loss: 0.000633, validation loss: 0.027862\n",
      "epoch 47, training loss: 0.000626, validation loss: 0.027832\n",
      "epoch 48, training loss: 0.000620, validation loss: 0.027769\n",
      "epoch 49, training loss: 0.000652, validation loss: 0.027846\n"
     ]
    }
   ],
   "source": [
    "num_epochs = 50# Number of iterations\n",
    "batch_size=5\n",
    "for epoch in range(num_epochs):\n",
    "    train_loss=0\n",
    "    for X,y in train_iter:\n",
    "        with autograd.record():\n",
    "            y_hat=net(X)\n",
    "            loss_val=l2_loss(y_hat,y)# Minibatch loss in X and y\n",
    "        loss_val.backward() # Compute gradient on l with respect to [w, b]\n",
    "        optimizer.step(batch_size=batch_size)\n",
    "        train_loss +=loss_val.mean().asnumpy()\n",
    "    val_loss=0  \n",
    "    for x_test,y_test in test_iter:\n",
    "        pred=net(x_test)\n",
    "        va_loss=l2_loss(pred,y_test)\n",
    "        val_loss+=va_loss.mean().asnumpy()\n",
    "    print('epoch %d, training loss: %f, validation loss: %f' % (epoch, train_loss, val_loss))    "
   ]
  },
  {
   "cell_type": "code",
   "execution_count": null,
   "metadata": {},
   "outputs": [],
   "source": []
  },
  {
   "cell_type": "code",
   "execution_count": 9,
   "metadata": {
    "ExecuteTime": {
     "end_time": "2020-09-11T16:35:33.570000Z",
     "start_time": "2020-09-11T16:35:33.563993Z"
    }
   },
   "outputs": [],
   "source": [
    "net=gluon.nn.Sequential()\n",
    "#net.add(gluon.nn.Dense(20,activation='relu'))\n",
    "net.add(gluon.nn.Dense(1))"
   ]
  },
  {
   "cell_type": "code",
   "execution_count": 10,
   "metadata": {
    "ExecuteTime": {
     "end_time": "2020-09-11T16:35:33.602002Z",
     "start_time": "2020-09-11T16:35:33.587001Z"
    }
   },
   "outputs": [],
   "source": [
    "net.initialize(mxnet.init.Normal(sigma=0.01))"
   ]
  },
  {
   "cell_type": "code",
   "execution_count": 11,
   "metadata": {
    "ExecuteTime": {
     "end_time": "2020-09-11T16:35:33.620008Z",
     "start_time": "2020-09-11T16:35:33.609993Z"
    }
   },
   "outputs": [],
   "source": [
    "# The weight parameter has been decayed. Weight names generally end with \"weight\".\n",
    "trainer_w = gluon.Trainer(net.collect_params('.*weight'), 'sgd',{'learning_rate': 0.01, 'wd': 4})\n",
    "    # The bias parameter has not decayed. Bias names generally end with \"bias\".\n",
    "    # The biases require less data to fit accurately than the weights\n",
    "trainer_b = gluon.Trainer(net.collect_params('.*bias'), 'sgd',{'learning_rate': 0.01})"
   ]
  },
  {
   "cell_type": "code",
   "execution_count": 12,
   "metadata": {
    "ExecuteTime": {
     "end_time": "2020-09-11T16:35:36.153646Z",
     "start_time": "2020-09-11T16:35:33.628996Z"
    }
   },
   "outputs": [
    {
     "name": "stdout",
     "output_type": "stream",
     "text": [
      "epoch 0, training loss: 0.025873, validation loss: 0.141982\n",
      "epoch 1, training loss: 0.008845, validation loss: 0.107829\n",
      "epoch 2, training loss: 0.003253, validation loss: 0.084527\n",
      "epoch 3, training loss: 0.001566, validation loss: 0.067880\n",
      "epoch 4, training loss: 0.000932, validation loss: 0.055731\n",
      "epoch 5, training loss: 0.000678, validation loss: 0.046763\n",
      "epoch 6, training loss: 0.000585, validation loss: 0.040098\n",
      "epoch 7, training loss: 0.000507, validation loss: 0.035093\n",
      "epoch 8, training loss: 0.000517, validation loss: 0.031386\n",
      "epoch 9, training loss: 0.000473, validation loss: 0.028606\n",
      "epoch 10, training loss: 0.000460, validation loss: 0.026327\n",
      "epoch 11, training loss: 0.000463, validation loss: 0.024596\n",
      "epoch 12, training loss: 0.000450, validation loss: 0.023218\n",
      "epoch 13, training loss: 0.000450, validation loss: 0.022106\n",
      "epoch 14, training loss: 0.000421, validation loss: 0.021108\n",
      "epoch 15, training loss: 0.000430, validation loss: 0.020322\n",
      "epoch 16, training loss: 0.000423, validation loss: 0.019643\n",
      "epoch 17, training loss: 0.000386, validation loss: 0.018948\n",
      "epoch 18, training loss: 0.000390, validation loss: 0.018316\n",
      "epoch 19, training loss: 0.000383, validation loss: 0.017834\n",
      "epoch 20, training loss: 0.000351, validation loss: 0.017335\n",
      "epoch 21, training loss: 0.000367, validation loss: 0.016864\n",
      "epoch 22, training loss: 0.000364, validation loss: 0.016443\n",
      "epoch 23, training loss: 0.000354, validation loss: 0.016042\n",
      "epoch 24, training loss: 0.000354, validation loss: 0.015615\n",
      "epoch 25, training loss: 0.000320, validation loss: 0.015162\n",
      "epoch 26, training loss: 0.000333, validation loss: 0.014822\n",
      "epoch 27, training loss: 0.000304, validation loss: 0.014461\n",
      "epoch 28, training loss: 0.000302, validation loss: 0.014094\n",
      "epoch 29, training loss: 0.000327, validation loss: 0.013767\n",
      "epoch 30, training loss: 0.000301, validation loss: 0.013398\n",
      "epoch 31, training loss: 0.000293, validation loss: 0.013120\n",
      "epoch 32, training loss: 0.000274, validation loss: 0.012799\n",
      "epoch 33, training loss: 0.000295, validation loss: 0.012498\n",
      "epoch 34, training loss: 0.000278, validation loss: 0.012221\n",
      "epoch 35, training loss: 0.000261, validation loss: 0.011880\n",
      "epoch 36, training loss: 0.000264, validation loss: 0.011609\n",
      "epoch 37, training loss: 0.000258, validation loss: 0.011349\n",
      "epoch 38, training loss: 0.000267, validation loss: 0.011120\n",
      "epoch 39, training loss: 0.000227, validation loss: 0.010845\n",
      "epoch 40, training loss: 0.000224, validation loss: 0.010565\n",
      "epoch 41, training loss: 0.000249, validation loss: 0.010316\n",
      "epoch 42, training loss: 0.000238, validation loss: 0.010067\n",
      "epoch 43, training loss: 0.000236, validation loss: 0.009832\n",
      "epoch 44, training loss: 0.000225, validation loss: 0.009607\n",
      "epoch 45, training loss: 0.000211, validation loss: 0.009379\n",
      "epoch 46, training loss: 0.000213, validation loss: 0.009165\n",
      "epoch 47, training loss: 0.000207, validation loss: 0.008932\n",
      "epoch 48, training loss: 0.000204, validation loss: 0.008713\n",
      "epoch 49, training loss: 0.000206, validation loss: 0.008545\n"
     ]
    }
   ],
   "source": [
    "num_epochs = 50# Number of iterations\n",
    "batch_size=5\n",
    "for epoch in range(num_epochs):\n",
    "    train_loss=0\n",
    "    for X,y in train_iter:\n",
    "        with autograd.record():\n",
    "            y_hat=net(X)\n",
    "            loss_val=l2_loss(y_hat,y)# Minibatch loss in X and y\n",
    "        loss_val.backward() # Compute gradient on l with respect to [w, b]\n",
    "        trainer_w.step(batch_size=batch_size)\n",
    "        trainer_b.step(batch_size=batch_size)\n",
    "        train_loss +=loss_val.mean().asnumpy()\n",
    "    val_loss=0  \n",
    "    for x_test,y_test in test_iter:\n",
    "        pred=net(x_test)\n",
    "        va_loss=l2_loss(pred,y_test)\n",
    "        val_loss+=va_loss.mean().asnumpy()\n",
    "    print('epoch %d, training loss: %f, validation loss: %f' % (epoch, train_loss, val_loss))    "
   ]
  },
  {
   "cell_type": "code",
   "execution_count": null,
   "metadata": {},
   "outputs": [],
   "source": []
  }
 ],
 "metadata": {
  "kernelspec": {
   "display_name": "Python 3",
   "language": "python",
   "name": "python3"
  },
  "language_info": {
   "codemirror_mode": {
    "name": "ipython",
    "version": 3
   },
   "file_extension": ".py",
   "mimetype": "text/x-python",
   "name": "python",
   "nbconvert_exporter": "python",
   "pygments_lexer": "ipython3",
   "version": "3.6.5"
  }
 },
 "nbformat": 4,
 "nbformat_minor": 2
}
