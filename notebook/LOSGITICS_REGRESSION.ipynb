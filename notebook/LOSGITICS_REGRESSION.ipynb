{
 "cells": [
  {
   "cell_type": "markdown",
   "metadata": {},
   "source": [
    "# CLASSIFICATION PROBLEM\n",
    " \n",
    "In the previious section we talked about regression which deals with quatitative target variable answering\n",
    "questions such as how much? or how many?. Regression problems include predicting the price of a house, the age of students and  the salary of an employee. \n",
    "\n",
    "\n",
    "$\\textbf{In practice, we are more often interested in making categorical assignments: asking not how much? but which one (boy or girl)?}$. We consider a problem to be a classification problem when dealing with qualitative (categorical) target variable with the aim of assigning an input described by vector x to one of the n discrete categories (class) $C_{i}$  where $i = 1,2 \\cdots,n$.\n",
    "\n",
    "\n",
    "A classifier is a map $f(x) \\rightarrow C_{i}$\n",
    "\n",
    "\n",
    "There are numerous classification methods that can be used to predict categorical outcomes, including logistic regression,\n",
    "support vector machines (SVM) ,decision trees and neural networks"
   ]
  },
  {
   "cell_type": "markdown",
   "metadata": {},
   "source": [
    "# Logistic regression\n",
    "\n",
    "\n",
    "The simplest classification problems involves only two classes which are usually lablled $\\textbf{1}$for positive ($y=1|x$) and  $\\textbf{O}$ for negatice class ($y=0|x$). Classification problems which involving only two categories are often called $\\textbf{binary classification}$.\n",
    "\n",
    "\n",
    "$\\textbf{Logistic regression}$ is a probabilistic binary classifier which estimates, for each data point, the conditional probability that it belongs to one of the class.\n",
    "\n",
    "This can be used to classify an observation into one of two classes (like ‘positive sentiment’ and ‘negative sentiment’, perished and survived, yes and no), from a set of continuous or categorical predictor variables. By choosing a threshold value, we classified output with probability greater than the threshold as one class usually the class labelled $\\textbf{1}$ and values below the threshold as belonging to the other class labeled $\\textbf{0}$. \n",
    "\n",
    "Recall from linear regression\n",
    "$$\\hat y= w^{T}x+b $$\n",
    "\n",
    "here we are interested in asking the question \"what is the probability that given an input vector x the predicted class will be a positive class\" so instead of outputting values from the linear model we will modify the output by running the linear function through a sigmoid activation function $\\sigma$ to output values with the range of [1,2]\n",
    "\n",
    "$\\hat y$ is then defined to be\n",
    "$$ \\hat{y} =\\sigma(\\boldsymbol{w}^T \\boldsymbol{x} + b). $$\n",
    "where\n",
    "$$\\boldsymbol{\\sigma(z)}=\\frac{1}{1+\\exp(-z)} $$ and  z is linear function consisting of the input data and their associated\n",
    "weights and biases. Thus\n",
    " $$z=\\sum_{i=1}^{n}W_{i}^{T}X_{i} +b_{i}$$\n",
    "\n",
    "\n",
    "\n",
    "\n",
    "\n",
    "\n",
    "Logistic regression classifies an input by learning from a training set. The model uses the learned weights and biases from the training data, to make a classification on newly unseen but similar instance or example. Each weight $w_{i}$ is a real number, and is associated with one of the input features $x_{i}$. \n",
    "\n",
    "$\\bullet$We can generalize linear regression to Binary classification by replacing the Gaussian distribution for y with a Bernoulli distribution since the response is binary, $y \\in \\{0,1 \\}$. where\n",
    "\n",
    "\n",
    "$$ P(y|x,w)=Ber(y|\\mu(x)) $$ where $\\mu(x)=E[y|x]=P(y=1|X)$\n",
    "$$\\hat y=\\mu(x)=\\frac{1}{1+\\exp(-z)} $$\n",
    "\n",
    "where x is an input data ,$p(y = 1|x)$ is the probability that the input data belong to class 1 and $p(y = 0|x)=1-p(y = 1|x)$  belonging to the class labelled $0$\n",
    "\n",
    "\n",
    "\n",
    "\n",
    "The function has a lower bound of zero and an upper bound of 1 and hence the function output values within the\n",
    "range of $[0,1]$. Logistic sigmoid function is defined as\n",
    "\n",
    "\n",
    "Using maximum likelihood principle,  for a dataset of $(x_{i},y_{i})$ where $y_{i} \\in \\{0,1\\}$\n",
    "the likelihood function can be written as\n",
    "\n",
    "\n",
    "\n",
    "$$P(y|x,w)=\\prod_{i}^{n} \\hat y^{y_{i}} (1-\\hat y)^{1-y_{i}}) $$\n",
    "\n"
   ]
  },
  {
   "cell_type": "code",
   "execution_count": 1,
   "metadata": {
    "ExecuteTime": {
     "end_time": "2020-06-21T23:12:02.588240Z",
     "start_time": "2020-06-21T23:11:58.634906Z"
    }
   },
   "outputs": [
    {
     "name": "stderr",
     "output_type": "stream",
     "text": [
      "C:\\Anaconda3\\lib\\site-packages\\numpy\\_distributor_init.py:32: UserWarning: loaded more than 1 DLL from .libs:\n",
      "C:\\Anaconda3\\lib\\site-packages\\numpy\\.libs\\libopenblas.PYQHXLVVQ7VESDPUVUADXEVJOBGHJPAY.gfortran-win_amd64.dll\n",
      "C:\\Anaconda3\\lib\\site-packages\\numpy\\.libs\\libopenblas.TXA6YQSD3GCQQC22GEQ54J2UDCXDXHWN.gfortran-win_amd64.dll\n",
      "  stacklevel=1)\n"
     ]
    }
   ],
   "source": [
    "from mxnet import np,npx,autograd,nd\n",
    "import d2l\n",
    "import random\n",
    "import math\n",
    "import matplotlib.pyplot as plt\n",
    "import pandas as pd\n",
    "from mxnet.gluon import nn\n",
    "import mxnet\n",
    "%matplotlib inline\n",
    "npx.set_np()"
   ]
  },
  {
   "cell_type": "markdown",
   "metadata": {},
   "source": [
    "  "
   ]
  },
  {
   "cell_type": "code",
   "execution_count": 2,
   "metadata": {
    "ExecuteTime": {
     "end_time": "2020-06-21T23:12:02.618077Z",
     "start_time": "2020-06-21T23:12:02.588240Z"
    }
   },
   "outputs": [
    {
     "data": {
      "text/plain": [
       "array([0.5       , 0.7310586 , 0.880797  , 0.95257413, 0.98201376])"
      ]
     },
     "execution_count": 2,
     "metadata": {},
     "output_type": "execute_result"
    }
   ],
   "source": [
    "inputs=np.arange(5)\n",
    "m=nn.Activation('sigmoid')\n",
    "m(inputs)"
   ]
  },
  {
   "cell_type": "code",
   "execution_count": 3,
   "metadata": {
    "ExecuteTime": {
     "end_time": "2020-06-21T23:12:02.657072Z",
     "start_time": "2020-06-21T23:12:02.629082Z"
    }
   },
   "outputs": [
    {
     "data": {
      "text/plain": [
       "array([0.5       , 0.7310586 , 0.880797  , 0.95257413, 0.98201376])"
      ]
     },
     "execution_count": 3,
     "metadata": {},
     "output_type": "execute_result"
    }
   ],
   "source": [
    "def sigmoid(z):\n",
    "    return 1/(1+np.exp(-z))\n",
    "sigmoid(inputs)"
   ]
  },
  {
   "cell_type": "code",
   "execution_count": 4,
   "metadata": {
    "ExecuteTime": {
     "end_time": "2020-06-21T23:12:03.029906Z",
     "start_time": "2020-06-21T23:12:02.657072Z"
    }
   },
   "outputs": [
    {
     "data": {
      "image/png": "[encoded data removed]",
      "text/plain": [
       "<Figure size 432x288 with 1 Axes>"
      ]
     },
     "metadata": {},
     "output_type": "display_data"
    }
   ],
   "source": [
    "with plt.style.context('ggplot'):\n",
    "    x=np.arange(-10,10,0.4)\n",
    "    y=sigmoid(x)\n",
    "    plt.plot(x,y)\n",
    "    plt.title('sigmoid function')\n",
    "    plt.ylabel('sigmoid(x)')\n",
    "    plt.xlabel('x values')\n",
    "    plt.show()\n",
    "    "
   ]
  },
  {
   "cell_type": "markdown",
   "metadata": {},
   "source": [
    "# LOSS FUNCTION\n",
    "The loss function measures how close the classifier output $\\hat y$ is to the correct output y\n",
    "\n",
    "\n",
    "\n",
    "\n",
    "We want to train our model such that it learned parameters (weights and biases) maximizes the probability of the correct \n",
    "label prediction $p(y|x)$.\n",
    "Since only two discrete outcomes are invovled, this is a Bernoulli distribution, Using maximum likelihood principle,  for a dataset of $(x_{i},y_{i})$ where $y_{i} \\in \\{0,1\\}$ the likelihood function can be written as\n",
    "\n",
    "\n",
    "\n",
    "$$P(y|x,w)=\\prod_{i}^{n} \\hat y^{y_{i}} (1-\\hat y)^{1-y_{i}} $$\n",
    "\n",
    "\n",
    "when we take the log on both side it becomes\n",
    "\n",
    "$$logP(y|x,w)=log ( \\hat y^{y_{i}} (1-\\hat y)^{1-y_{i}}) $$\n",
    "$$logP(y|x,w)=y_{i}log \\hat y + (1-y_{i})log(1 -\\hat y) $$\n",
    "\n",
    "\n",
    "which is a log likelihood function that should be maximized. In order to turn this\n",
    "into loss function that need to be minimized we negate it which then becomes a minimization problem\n",
    "\n",
    "$$-logP(y|x,w)=-[y_{i}log \\hat y + (1-y_{i})log(1 -\\hat y)] $$\n",
    "\n",
    "\n",
    "We defined the binary crossentropy error to\n",
    " \n",
    " $E(y, \\hat y)=-InP(y|x,w)=-[\\sum_{i}^{n}y_{i}In \\hat y + (1-y_{i})In(1 -\\hat y)] $"
   ]
  },
  {
   "cell_type": "code",
   "execution_count": 5,
   "metadata": {
    "ExecuteTime": {
     "end_time": "2020-06-21T23:12:13.308690Z",
     "start_time": "2020-06-21T23:12:13.304694Z"
    }
   },
   "outputs": [],
   "source": [
    "from mxnet import np,npx,autograd,nd"
   ]
  },
  {
   "cell_type": "code",
   "execution_count": 6,
   "metadata": {
    "ExecuteTime": {
     "end_time": "2020-06-21T23:12:13.668546Z",
     "start_time": "2020-06-21T23:12:13.662555Z"
    }
   },
   "outputs": [],
   "source": [
    "target = np.zeros(5)"
   ]
  },
  {
   "cell_type": "code",
   "execution_count": 7,
   "metadata": {
    "ExecuteTime": {
     "end_time": "2020-06-21T23:12:14.408726Z",
     "start_time": "2020-06-21T23:12:14.382718Z"
    }
   },
   "outputs": [
    {
     "data": {
      "text/plain": [
       "array([0.6931472, 1.3132617, 2.126928 , 3.0485873, 4.01815  ])"
      ]
     },
     "execution_count": 7,
     "metadata": {},
     "output_type": "execute_result"
    }
   ],
   "source": [
    "loss=mxnet.gluon.loss.SigmoidBinaryCrossEntropyLoss()\n",
    "loss(inputs,target)"
   ]
  },
  {
   "cell_type": "code",
   "execution_count": 8,
   "metadata": {
    "ExecuteTime": {
     "end_time": "2020-06-21T23:12:15.421090Z",
     "start_time": "2020-06-21T23:12:15.406511Z"
    }
   },
   "outputs": [
    {
     "data": {
      "text/plain": [
       "array([0.6931472, 1.3132617, 2.1269276, 3.0485876, 4.0181484])"
      ]
     },
     "execution_count": 8,
     "metadata": {},
     "output_type": "execute_result"
    }
   ],
   "source": [
    "def BCE(y_hat,y):\n",
    "    los=-(y*np.log(y_hat) + (1-y)*np.log(1-y_hat))\n",
    "    return los\n",
    "BCE(sigmoid(inputs),target)"
   ]
  },
  {
   "cell_type": "code",
   "execution_count": null,
   "metadata": {},
   "outputs": [],
   "source": []
  },
  {
   "cell_type": "markdown",
   "metadata": {},
   "source": [
    "# IMPLEMENTING LOSGISTIC REGRESSION"
   ]
  },
  {
   "cell_type": "code",
   "execution_count": 9,
   "metadata": {
    "ExecuteTime": {
     "end_time": "2020-06-21T23:12:18.696223Z",
     "start_time": "2020-06-21T23:12:18.683226Z"
    }
   },
   "outputs": [],
   "source": [
    "from mxnet import np,npx,autograd,nd\n",
    "import d2l\n",
    "import matplotlib.pyplot as plt\n",
    "import pandas as pd\n",
    "from mxnet.gluon import nn\n",
    "%matplotlib inline\n",
    "npx.set_np()"
   ]
  },
  {
   "cell_type": "code",
   "execution_count": 10,
   "metadata": {
    "ExecuteTime": {
     "end_time": "2020-06-21T23:12:19.289299Z",
     "start_time": "2020-06-21T23:12:19.181306Z"
    }
   },
   "outputs": [],
   "source": [
    "from sklearn.datasets import load_iris\n",
    "# loading the data\n",
    "data=load_iris()"
   ]
  },
  {
   "cell_type": "code",
   "execution_count": 11,
   "metadata": {
    "ExecuteTime": {
     "end_time": "2020-06-21T23:12:19.324303Z",
     "start_time": "2020-06-21T23:12:19.294304Z"
    }
   },
   "outputs": [
    {
     "data": {
      "text/html": [
       "<div>\n",
       "<style scoped>\n",
       "    .dataframe tbody tr th:only-of-type {\n",
       "        vertical-align: middle;\n",
       "    }\n",
       "\n",
       "    .dataframe tbody tr th {\n",
       "        vertical-align: top;\n",
       "    }\n",
       "\n",
       "    .dataframe thead th {\n",
       "        text-align: right;\n",
       "    }\n",
       "</style>\n",
       "<table border=\"1\" class=\"dataframe\">\n",
       "  <thead>\n",
       "    <tr style=\"text-align: right;\">\n",
       "      <th></th>\n",
       "      <th>sepal length (cm)</th>\n",
       "      <th>sepal width (cm)</th>\n",
       "      <th>petal length (cm)</th>\n",
       "      <th>petal width (cm)</th>\n",
       "      <th>species</th>\n",
       "    </tr>\n",
       "  </thead>\n",
       "  <tbody>\n",
       "    <tr>\n",
       "      <th>0</th>\n",
       "      <td>5.1</td>\n",
       "      <td>3.5</td>\n",
       "      <td>1.4</td>\n",
       "      <td>0.2</td>\n",
       "      <td>0</td>\n",
       "    </tr>\n",
       "    <tr>\n",
       "      <th>1</th>\n",
       "      <td>4.9</td>\n",
       "      <td>3.0</td>\n",
       "      <td>1.4</td>\n",
       "      <td>0.2</td>\n",
       "      <td>0</td>\n",
       "    </tr>\n",
       "    <tr>\n",
       "      <th>2</th>\n",
       "      <td>4.7</td>\n",
       "      <td>3.2</td>\n",
       "      <td>1.3</td>\n",
       "      <td>0.2</td>\n",
       "      <td>0</td>\n",
       "    </tr>\n",
       "    <tr>\n",
       "      <th>3</th>\n",
       "      <td>4.6</td>\n",
       "      <td>3.1</td>\n",
       "      <td>1.5</td>\n",
       "      <td>0.2</td>\n",
       "      <td>0</td>\n",
       "    </tr>\n",
       "    <tr>\n",
       "      <th>4</th>\n",
       "      <td>5.0</td>\n",
       "      <td>3.6</td>\n",
       "      <td>1.4</td>\n",
       "      <td>0.2</td>\n",
       "      <td>0</td>\n",
       "    </tr>\n",
       "  </tbody>\n",
       "</table>\n",
       "</div>"
      ],
      "text/plain": [
       "   sepal length (cm)  sepal width (cm)  petal length (cm)  petal width (cm)  \\\n",
       "0                5.1               3.5                1.4               0.2   \n",
       "1                4.9               3.0                1.4               0.2   \n",
       "2                4.7               3.2                1.3               0.2   \n",
       "3                4.6               3.1                1.5               0.2   \n",
       "4                5.0               3.6                1.4               0.2   \n",
       "\n",
       "   species  \n",
       "0        0  \n",
       "1        0  \n",
       "2        0  \n",
       "3        0  \n",
       "4        0  "
      ]
     },
     "execution_count": 11,
     "metadata": {},
     "output_type": "execute_result"
    }
   ],
   "source": [
    "# converting the data into a dataframe\n",
    "train_data=pd.DataFrame(data.data,columns=data.feature_names)\n",
    "# converting the target variable into a dataframe\n",
    "y_data=pd.DataFrame(data.target,columns=['species'])\n",
    "# concatinating both the target and the input features into a single dataframe\n",
    "train_data[['species']]=y_data[['species']]\n",
    "train_data.head()"
   ]
  },
  {
   "cell_type": "code",
   "execution_count": 12,
   "metadata": {
    "ExecuteTime": {
     "end_time": "2020-06-21T23:12:19.773956Z",
     "start_time": "2020-06-21T23:12:19.746957Z"
    }
   },
   "outputs": [
    {
     "name": "stdout",
     "output_type": "stream",
     "text": [
      "(150, 5)\n"
     ]
    },
    {
     "data": {
      "text/html": [
       "<div>\n",
       "<style scoped>\n",
       "    .dataframe tbody tr th:only-of-type {\n",
       "        vertical-align: middle;\n",
       "    }\n",
       "\n",
       "    .dataframe tbody tr th {\n",
       "        vertical-align: top;\n",
       "    }\n",
       "\n",
       "    .dataframe thead th {\n",
       "        text-align: right;\n",
       "    }\n",
       "</style>\n",
       "<table border=\"1\" class=\"dataframe\">\n",
       "  <thead>\n",
       "    <tr style=\"text-align: right;\">\n",
       "      <th></th>\n",
       "      <th>sepal_length</th>\n",
       "      <th>sepal_width</th>\n",
       "      <th>petal_length</th>\n",
       "      <th>petal_width</th>\n",
       "      <th>species</th>\n",
       "    </tr>\n",
       "  </thead>\n",
       "  <tbody>\n",
       "    <tr>\n",
       "      <th>0</th>\n",
       "      <td>5.1</td>\n",
       "      <td>3.5</td>\n",
       "      <td>1.4</td>\n",
       "      <td>0.2</td>\n",
       "      <td>0</td>\n",
       "    </tr>\n",
       "    <tr>\n",
       "      <th>1</th>\n",
       "      <td>4.9</td>\n",
       "      <td>3.0</td>\n",
       "      <td>1.4</td>\n",
       "      <td>0.2</td>\n",
       "      <td>0</td>\n",
       "    </tr>\n",
       "    <tr>\n",
       "      <th>2</th>\n",
       "      <td>4.7</td>\n",
       "      <td>3.2</td>\n",
       "      <td>1.3</td>\n",
       "      <td>0.2</td>\n",
       "      <td>0</td>\n",
       "    </tr>\n",
       "  </tbody>\n",
       "</table>\n",
       "</div>"
      ],
      "text/plain": [
       "   sepal_length  sepal_width  petal_length  petal_width  species\n",
       "0           5.1          3.5           1.4          0.2        0\n",
       "1           4.9          3.0           1.4          0.2        0\n",
       "2           4.7          3.2           1.3          0.2        0"
      ]
     },
     "execution_count": 12,
     "metadata": {},
     "output_type": "execute_result"
    }
   ],
   "source": [
    "# renaming some columns\n",
    "train_data=train_data.rename(columns={\"sepal length (cm)\":\"sepal_length\",\"sepal width (cm)\":\"sepal_width\",\n",
    "                   \"petal length (cm)\":\"petal_length\",\"petal width (cm)\":\"petal_width\"})\n",
    "print(train_data.shape)\n",
    "train_data.head(3)"
   ]
  },
  {
   "cell_type": "code",
   "execution_count": 13,
   "metadata": {
    "ExecuteTime": {
     "end_time": "2020-06-21T23:12:20.316672Z",
     "start_time": "2020-06-21T23:12:20.306671Z"
    }
   },
   "outputs": [
    {
     "data": {
      "text/plain": [
       "(100, 5)"
      ]
     },
     "execution_count": 13,
     "metadata": {},
     "output_type": "execute_result"
    }
   ],
   "source": [
    "# turning the data into a binary classification problem by dropping the virginica \n",
    "#(where does under species=2) rows from the data\n",
    "train_data=train_data[train_data['species'] <2]\n",
    "train_data.shape"
   ]
  },
  {
   "cell_type": "code",
   "execution_count": 14,
   "metadata": {
    "ExecuteTime": {
     "end_time": "2020-06-21T23:12:21.288222Z",
     "start_time": "2020-06-21T23:12:21.275222Z"
    }
   },
   "outputs": [
    {
     "name": "stdout",
     "output_type": "stream",
     "text": [
      "shape of the input data (100, 4)\n",
      "shape of the target variable (100, 1)\n"
     ]
    }
   ],
   "source": [
    "x_data=train_data[['sepal_length','sepal_width','petal_length','petal_width']]\n",
    "y_data=train_data[['species']]\n",
    "print('shape of the input data',x_data.shape)\n",
    "print('shape of the target variable',y_data.shape)\n"
   ]
  },
  {
   "cell_type": "code",
   "execution_count": 15,
   "metadata": {
    "ExecuteTime": {
     "end_time": "2020-06-21T23:12:21.632772Z",
     "start_time": "2020-06-21T23:12:21.620768Z"
    }
   },
   "outputs": [
    {
     "name": "stdout",
     "output_type": "stream",
     "text": [
      "the sheep for the x_data is (100, 4)\n",
      "the sheep for the y_data is (100, 1)\n"
     ]
    }
   ],
   "source": [
    "x_data=np.array(x_data)\n",
    "y_data=np.array(y_data)\n",
    "print('the sheep for the x_data is',x_data.shape)\n",
    "print('the sheep for the y_data is',y_data.shape)"
   ]
  },
  {
   "cell_type": "markdown",
   "metadata": {},
   "source": [
    "# Define our model and initialized the parameters"
   ]
  },
  {
   "cell_type": "code",
   "execution_count": 16,
   "metadata": {
    "ExecuteTime": {
     "end_time": "2020-06-21T23:12:22.834964Z",
     "start_time": "2020-06-21T23:12:22.826958Z"
    }
   },
   "outputs": [],
   "source": [
    "log_reg=nn.Dense(1)\n",
    "log_reg.initialize(mxnet.init.Normal(sigma=0.1))"
   ]
  },
  {
   "cell_type": "markdown",
   "metadata": {},
   "source": [
    "# Instantiate an optimizer"
   ]
  },
  {
   "cell_type": "code",
   "execution_count": 22,
   "metadata": {
    "ExecuteTime": {
     "end_time": "2020-06-21T23:13:50.555312Z",
     "start_time": "2020-06-21T23:13:50.549310Z"
    }
   },
   "outputs": [],
   "source": [
    "trainer=mxnet.gluon.Trainer(log_reg.collect_params(),'sgd',{'learning_rate':0.1})"
   ]
  },
  {
   "cell_type": "markdown",
   "metadata": {},
   "source": [
    "# The loss function"
   ]
  },
  {
   "cell_type": "code",
   "execution_count": 23,
   "metadata": {
    "ExecuteTime": {
     "end_time": "2020-06-21T23:13:50.937036Z",
     "start_time": "2020-06-21T23:13:50.932032Z"
    }
   },
   "outputs": [],
   "source": [
    "loss=mxnet.gluon.loss.SigmoidBinaryCrossEntropyLoss()"
   ]
  },
  {
   "cell_type": "markdown",
   "metadata": {},
   "source": [
    "# Instantiate a dataloader"
   ]
  },
  {
   "cell_type": "code",
   "execution_count": 24,
   "metadata": {
    "ExecuteTime": {
     "end_time": "2020-06-21T23:13:51.360740Z",
     "start_time": "2020-06-21T23:13:51.351739Z"
    }
   },
   "outputs": [],
   "source": [
    "data_iter=mxnet.gluon.data.DataLoader(mxnet.gluon.data.ArrayDataset(x_data,y_data),batch_size=30,shuffle=True)"
   ]
  },
  {
   "cell_type": "code",
   "execution_count": 25,
   "metadata": {
    "ExecuteTime": {
     "end_time": "2020-06-21T23:13:51.678740Z",
     "start_time": "2020-06-21T23:13:51.420739Z"
    }
   },
   "outputs": [
    {
     "name": "stdout",
     "output_type": "stream",
     "text": [
      "epoch 1/10, loss 0.173152\n",
      "epoch 2/10, loss 0.171775\n",
      "epoch 3/10, loss 0.170419\n",
      "epoch 4/10, loss 0.169094\n",
      "epoch 5/10, loss 0.167784\n",
      "epoch 6/10, loss 0.166496\n",
      "epoch 7/10, loss 0.165226\n",
      "epoch 8/10, loss 0.163978\n",
      "epoch 9/10, loss 0.162745\n",
      "epoch 10/10, loss 0.161536\n"
     ]
    }
   ],
   "source": [
    "num_epochs = 10 # Number of iterations\n",
    "batch_size=30\n",
    "for epoch in range(num_epochs):\n",
    "    for X,y in data_iter:\n",
    "        with autograd.record():\n",
    "            y_hat=log_reg(X)\n",
    "            los=loss(y_hat,y)# Minibatch loss in X and y\n",
    "        los.backward() # Compute gradient on l with respect to [w, b]\n",
    "        trainer.step(batch_size=batch_size) # Update parameters using their gradient\n",
    "    train_l=loss(log_reg(x_data),y_data)\n",
    "    print('epoch %d/10, loss %f' % (epoch + 1, train_l.mean().asnumpy()))"
   ]
  },
  {
   "cell_type": "code",
   "execution_count": null,
   "metadata": {},
   "outputs": [],
   "source": []
  },
  {
   "cell_type": "code",
   "execution_count": null,
   "metadata": {},
   "outputs": [],
   "source": []
  },
  {
   "cell_type": "code",
   "execution_count": null,
   "metadata": {},
   "outputs": [],
   "source": []
  }
 ],
 "metadata": {
  "kernelspec": {
   "display_name": "Python 3",
   "language": "python",
   "name": "python3"
  },
  "language_info": {
   "codemirror_mode": {
    "name": "ipython",
    "version": 3
   },
   "file_extension": ".py",
   "mimetype": "text/x-python",
   "name": "python",
   "nbconvert_exporter": "python",
   "pygments_lexer": "ipython3",
   "version": "3.6.5"
  }
 },
 "nbformat": 4,
 "nbformat_minor": 2
}
