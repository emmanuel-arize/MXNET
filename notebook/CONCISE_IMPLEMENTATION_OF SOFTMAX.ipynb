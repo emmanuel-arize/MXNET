{
 "cells": [
  {
   "cell_type": "markdown",
   "metadata": {},
   "source": [
    "# MULTICLASS LOGISTIC REGRESSION (SOFTMAX) WITH GLUON"
   ]
  },
  {
   "cell_type": "code",
   "execution_count": 1,
   "metadata": {
    "ExecuteTime": {
     "end_time": "2020-07-13T22:42:21.627905Z",
     "start_time": "2020-07-13T22:42:18.366281Z"
    }
   },
   "outputs": [],
   "source": [
    "import mxnet as mx\n",
    "from mxnet import nd, autograd, gluon\n",
    "import numpy as np\n",
    "from mxnet.gluon import nn\n",
    "import matplotlib.pyplot as plt\n",
    "%matplotlib inline"
   ]
  },
  {
   "cell_type": "code",
   "execution_count": 2,
   "metadata": {
    "ExecuteTime": {
     "end_time": "2020-07-13T22:42:22.731091Z",
     "start_time": "2020-07-13T22:42:22.725102Z"
    }
   },
   "outputs": [],
   "source": [
    "data_ctx=mx.cpu\n",
    "model_ctx=mx.cpu"
   ]
  },
  {
   "cell_type": "code",
   "execution_count": 3,
   "metadata": {
    "ExecuteTime": {
     "end_time": "2020-07-13T22:42:22.779092Z",
     "start_time": "2020-07-13T22:42:22.774091Z"
    }
   },
   "outputs": [],
   "source": [
    "batch_size = 200\n",
    "num_inputs = 784\n",
    "num_outputs = 10\n",
    "num_examples = 60000"
   ]
  },
  {
   "cell_type": "markdown",
   "metadata": {},
   "source": [
    "### the code belows loads the load the data and transform both the inputs and labels to float32 array. Since the input data has values between 0-255 we will then divide each value by 255 to have values between 0 and 1"
   ]
  },
  {
   "cell_type": "code",
   "execution_count": 4,
   "metadata": {
    "ExecuteTime": {
     "end_time": "2020-07-13T22:42:23.998064Z",
     "start_time": "2020-07-13T22:42:23.165098Z"
    }
   },
   "outputs": [],
   "source": [
    "def transform(data,labels):\n",
    "    return data.astype('float32')/255, labels.astype('float32')\n",
    "train_data = mx.gluon.data.DataLoader(mx.gluon.data.vision.MNIST(train=True,transform=transform),batch_size, shuffle=True)\n",
    "test_data = mx.gluon.data.DataLoader(mx.gluon.data.vision.MNIST(train=False, transform=transform),batch_size, shuffle=False)"
   ]
  },
  {
   "cell_type": "markdown",
   "metadata": {},
   "source": [
    "### we first created a hybridsequential object name net then added a fully connected input,hidden and output layers"
   ]
  },
  {
   "cell_type": "code",
   "execution_count": 5,
   "metadata": {
    "ExecuteTime": {
     "end_time": "2020-07-13T22:42:24.019064Z",
     "start_time": "2020-07-13T22:42:24.008064Z"
    }
   },
   "outputs": [],
   "source": [
    "net=nn.HybridSequential()\n",
    "#net.add(nn.Dense(num_outputs))\n",
    "net.add(nn.Dense(units=50, activation='relu'))\n",
    "net.add(nn.Dense(units=30, activation='relu'))  # input layer\n",
    "net.add(nn.Dense(units=10, activation='relu'))   # inner layer 1\n",
    "net.add(nn.Dense(units=5, activation='relu'))   # inner layer 2\n",
    "net.add(nn.Dense(units=num_outputs)) "
   ]
  },
  {
   "cell_type": "markdown",
   "metadata": {},
   "source": [
    "#### initialized model parameters using Xavier initialization for weights designed to keep the scale of gradients roughly the same in all layers"
   ]
  },
  {
   "cell_type": "code",
   "execution_count": 6,
   "metadata": {
    "ExecuteTime": {
     "end_time": "2020-07-13T22:42:24.061068Z",
     "start_time": "2020-07-13T22:42:24.027064Z"
    }
   },
   "outputs": [],
   "source": [
    "net.initialize(mx.init.Xavier())"
   ]
  },
  {
   "cell_type": "code",
   "execution_count": 7,
   "metadata": {
    "ExecuteTime": {
     "end_time": "2020-07-13T22:42:24.269066Z",
     "start_time": "2020-07-13T22:42:24.255066Z"
    }
   },
   "outputs": [
    {
     "data": {
      "text/plain": [
       "<bound method Block.load_parameters of HybridSequential(\n",
       "  (0): Dense(None -> 50, Activation(relu))\n",
       "  (1): Dense(None -> 30, Activation(relu))\n",
       "  (2): Dense(None -> 10, Activation(relu))\n",
       "  (3): Dense(None -> 5, Activation(relu))\n",
       "  (4): Dense(None -> 10, linear)\n",
       ")>"
      ]
     },
     "execution_count": 7,
     "metadata": {},
     "output_type": "execute_result"
    }
   ],
   "source": [
    "net.load_parameters"
   ]
  },
  {
   "cell_type": "markdown",
   "metadata": {},
   "source": [
    "# loss function\n",
    "A loss function— defines the feedback signal used for learning ( measures how well the model predictions match that of the true label)"
   ]
  },
  {
   "cell_type": "code",
   "execution_count": 8,
   "metadata": {
    "ExecuteTime": {
     "end_time": "2020-07-13T22:42:24.662066Z",
     "start_time": "2020-07-13T22:42:24.654066Z"
    }
   },
   "outputs": [],
   "source": [
    "softmax_cross_entropy = gluon.loss.SoftmaxCrossEntropyLoss()"
   ]
  },
  {
   "cell_type": "markdown",
   "metadata": {},
   "source": [
    "# Optimizer\n",
    "An optimizer—A mechanism to update the model parameters\n",
    "\n",
    " we will use minibatch stochastic gradient descent with a learning rate of 0:5 as the optimization algorithm\n",
    " \n",
    "## NOTE\n",
    "The learning rate is tuning parameter which determines how big a step is taking along the gradient in order to find a better weight. A too high value will make the learning jump over the minima but smaller values slow it down and will take too long to converge"
   ]
  },
  {
   "cell_type": "code",
   "execution_count": 9,
   "metadata": {
    "ExecuteTime": {
     "end_time": "2020-07-13T22:42:25.052065Z",
     "start_time": "2020-07-13T22:42:25.044067Z"
    }
   },
   "outputs": [],
   "source": [
    "trainer=gluon.Trainer(net.collect_params(),'sgd',{'learning_rate':.005})"
   ]
  },
  {
   "cell_type": "markdown",
   "metadata": {},
   "source": [
    "# Evaluation metrics to evaluate the model"
   ]
  },
  {
   "cell_type": "code",
   "execution_count": 10,
   "metadata": {
    "ExecuteTime": {
     "end_time": "2020-07-13T22:42:25.469071Z",
     "start_time": "2020-07-13T22:42:25.461067Z"
    }
   },
   "outputs": [],
   "source": [
    "def evaluate_accuracy(data_iterator, net):\n",
    "    acc = mx.metric.Accuracy()\n",
    "    for i, (data, label) in enumerate(data_iterator):\n",
    "        data = data.reshape((-1,784))\n",
    "        output = net(data)\n",
    "        predictions = nd.argmax(output, axis=1)\n",
    "        acc.update(preds=predictions, labels=label)\n",
    "    return acc.get()[1]"
   ]
  },
  {
   "cell_type": "code",
   "execution_count": 11,
   "metadata": {
    "ExecuteTime": {
     "end_time": "2020-07-13T22:42:28.520285Z",
     "start_time": "2020-07-13T22:42:25.502066Z"
    }
   },
   "outputs": [
    {
     "data": {
      "text/plain": [
       "0.0566"
      ]
     },
     "execution_count": 11,
     "metadata": {},
     "output_type": "execute_result"
    }
   ],
   "source": [
    "evaluate_accuracy(test_data, net)"
   ]
  },
  {
   "cell_type": "markdown",
   "metadata": {},
   "source": [
    "# Training the model"
   ]
  },
  {
   "cell_type": "code",
   "execution_count": 12,
   "metadata": {
    "ExecuteTime": {
     "end_time": "2020-07-13T22:55:37.831718Z",
     "start_time": "2020-07-13T22:42:28.526365Z"
    }
   },
   "outputs": [
    {
     "name": "stdout",
     "output_type": "stream",
     "text": [
      "Epoch 0. Loss: 2.249564259847005, Train_acc 0.20191666666666666, Test_acc 0.2036\n",
      "Epoch 1. Loss: 2.00652314453125, Train_acc 0.2830166666666667, Test_acc 0.2922\n",
      "Epoch 2. Loss: 1.7843007110595703, Train_acc 0.38608333333333333, Test_acc 0.3859\n",
      "Epoch 3. Loss: 1.5387312927246093, Train_acc 0.5131333333333333, Test_acc 0.5238\n",
      "Epoch 4. Loss: 1.2518041399637858, Train_acc 0.5701666666666667, Test_acc 0.5756\n",
      "Epoch 5. Loss: 1.0939023206075034, Train_acc 0.6251666666666666, Test_acc 0.6322\n",
      "Epoch 6. Loss: 0.9930665153503418, Train_acc 0.6683, Test_acc 0.6738\n",
      "Epoch 7. Loss: 0.9061790415445964, Train_acc 0.7112666666666667, Test_acc 0.7137\n",
      "Epoch 8. Loss: 0.8188491966247559, Train_acc 0.7523166666666666, Test_acc 0.7571\n",
      "Epoch 9. Loss: 0.7376959073384602, Train_acc 0.7808166666666667, Test_acc 0.7824\n",
      "Epoch 10. Loss: 0.6725026210784912, Train_acc 0.8016833333333333, Test_acc 0.8069\n",
      "Epoch 11. Loss: 0.6226720300038655, Train_acc 0.81785, Test_acc 0.8244\n",
      "Epoch 12. Loss: 0.5831067169189453, Train_acc 0.8299, Test_acc 0.8348\n",
      "Epoch 13. Loss: 0.5507215380350748, Train_acc 0.8394333333333334, Test_acc 0.8436\n",
      "Epoch 14. Loss: 0.5228018005371093, Train_acc 0.8491166666666666, Test_acc 0.8553\n",
      "Epoch 15. Loss: 0.49828824081420897, Train_acc 0.8558166666666667, Test_acc 0.8597\n",
      "Epoch 16. Loss: 0.4763178480784098, Train_acc 0.86355, Test_acc 0.8679\n",
      "Epoch 17. Loss: 0.45660385710398355, Train_acc 0.86955, Test_acc 0.8731\n",
      "Epoch 18. Loss: 0.4387478050231934, Train_acc 0.87445, Test_acc 0.8787\n",
      "Epoch 19. Loss: 0.4222245355606079, Train_acc 0.8790166666666667, Test_acc 0.883\n"
     ]
    }
   ],
   "source": [
    "epochs = 20\n",
    "moving_loss = 0.\n",
    "train_acc=[]\n",
    "test_acc=[]\n",
    "for e in range(epochs):\n",
    "    cumulative_loss = 0\n",
    "    for i, (data, label) in enumerate(train_data):\n",
    "        data = data.reshape((-1,784))\n",
    "        with autograd.record():\n",
    "            output = net(data)\n",
    "            loss = softmax_cross_entropy(output, label)\n",
    "        loss.backward()\n",
    "        trainer.step(batch_size)\n",
    "        cumulative_loss += nd.sum(loss).asscalar()\n",
    "    \n",
    "    test_accuracy = evaluate_accuracy(test_data, net)\n",
    "    train_accuracy = evaluate_accuracy(train_data, net)\n",
    "    train_acc.append(train_accuracy)\n",
    "    test_acc.append(test_accuracy)\n",
    "    print(\"Epoch %s. Loss: %s, Train_acc %s, Test_acc %s\" % (e, cumulative_loss/num_examples, train_accuracy, test_accuracy))    \n",
    "    "
   ]
  },
  {
   "cell_type": "code",
   "execution_count": 50,
   "metadata": {
    "ExecuteTime": {
     "end_time": "2020-07-13T23:10:13.960979Z",
     "start_time": "2020-07-13T23:10:13.668091Z"
    }
   },
   "outputs": [
    {
     "data": {
      "image/png": "[encoded data removed]",
      "text/plain": [
       "<Figure size 504x360 with 1 Axes>"
      ]
     },
     "metadata": {},
     "output_type": "display_data"
    }
   ],
   "source": [
    "epoch=range(1,len(train_acc)+1)\n",
    "with plt.style.context('seaborn-dark-palette'):\n",
    "    plt.figure(figsize=(7,5))\n",
    "    plt.plot(epoch,train_acc,'b-+',label='training accuracy')\n",
    "    plt.plot(epoch,test_acc,'r-*',label='testing accuracy')\n",
    "    plt.legend(loc='center')\n",
    "    plt.grid()\n",
    "    plt.ylabel('Accuracy')\n",
    "    plt.xlabel('Epoch')\n"
   ]
  },
  {
   "cell_type": "code",
   "execution_count": 52,
   "metadata": {
    "ExecuteTime": {
     "end_time": "2020-07-13T23:10:41.713774Z",
     "start_time": "2020-07-13T23:10:41.458226Z"
    }
   },
   "outputs": [
    {
     "name": "stdout",
     "output_type": "stream",
     "text": [
      "(10, 28, 28, 1)\n"
     ]
    },
    {
     "data": {
      "image/png": "[encoded data removed]",
      "text/plain": [
       "<Figure size 432x288 with 1 Axes>"
      ]
     },
     "metadata": {},
     "output_type": "display_data"
    },
    {
     "name": "stdout",
     "output_type": "stream",
     "text": [
      "model predictions are: \n",
      "[7. 8. 2. 6. 1. 6. 8. 1. 3. 1.]\n",
      "<NDArray 10 @cpu(0)>\n"
     ]
    }
   ],
   "source": [
    "def model_predict(net,data):\n",
    "    output = net(data)\n",
    "    return nd.argmax(output, axis=1)\n",
    "\n",
    "# let's sample 10 random data points from the test set\n",
    "sample_data = mx.gluon.data.DataLoader(mx.gluon.data.vision.MNIST(train=False, transform=transform),\n",
    "                              10, shuffle=True)\n",
    "for i, (data, label) in enumerate(sample_data):\n",
    "    print(data.shape)\n",
    "    im = nd.transpose(data,(1,0,2,3))\n",
    "    im = nd.reshape(im,(28,10*28,1))\n",
    "    imtiles = nd.tile(im, (1,1,3))\n",
    "    \n",
    "    plt.imshow(imtiles.asnumpy())\n",
    "    plt.show()\n",
    "    pred=model_predict(net,data.reshape((-1,784)))\n",
    "    print('model predictions are:', pred)\n",
    "    break\n"
   ]
  },
  {
   "cell_type": "code",
   "execution_count": null,
   "metadata": {},
   "outputs": [],
   "source": []
  }
 ],
 "metadata": {
  "kernelspec": {
   "display_name": "Python 3",
   "language": "python",
   "name": "python3"
  },
  "language_info": {
   "codemirror_mode": {
    "name": "ipython",
    "version": 3
   },
   "file_extension": ".py",
   "mimetype": "text/x-python",
   "name": "python",
   "nbconvert_exporter": "python",
   "pygments_lexer": "ipython3",
   "version": "3.6.5"
  }
 },
 "nbformat": 4,
 "nbformat_minor": 2
}
